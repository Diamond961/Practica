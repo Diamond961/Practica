{
 "cells": [
  {
   "cell_type": "code",
   "execution_count": 1,
   "metadata": {},
   "outputs": [],
   "source": [
    "import matplotlib.pyplot as plt\n",
    "import matplotlib.font_manager as fm\n",
    "from matplotlib import rcParams\n",
    "import seaborn as sns\n",
    "import numpy as np\n",
    "import pandas as pd\n",
    "import os # accessing directory structure\n",
    "\n",
    "# for data pipeline --------------------\n",
    "\n",
    "from sklearn.model_selection import train_test_split\n",
    "from sklearn.metrics import*\n",
    "from sklearn.preprocessing import StandardScaler\n",
    "from sklearn.feature_selection import VarianceThreshold\n",
    "from sklearn.pipeline import make_pipeline\n",
    "from sklearn.preprocessing import OneHotEncoder\n",
    "from sklearn.preprocessing import LabelEncoder\n",
    "from sklearn.pipeline import make_pipeline\n",
    "\n",
    "# for prediction (machine learning models) ------------------------\n",
    "\n",
    "from sklearn.linear_model import*\n",
    "from sklearn.preprocessing import*\n",
    "from sklearn.ensemble import*\n",
    "from sklearn.neighbors import*\n",
    "from sklearn import svm\n",
    "from sklearn.naive_bayes import*"
   ]
  },
  {
   "cell_type": "code",
   "execution_count": 2,
   "metadata": {},
   "outputs": [
    {
     "data": {
      "text/html": [
       "<div>\n",
       "<style scoped>\n",
       "    .dataframe tbody tr th:only-of-type {\n",
       "        vertical-align: middle;\n",
       "    }\n",
       "\n",
       "    .dataframe tbody tr th {\n",
       "        vertical-align: top;\n",
       "    }\n",
       "\n",
       "    .dataframe thead th {\n",
       "        text-align: right;\n",
       "    }\n",
       "</style>\n",
       "<table border=\"1\" class=\"dataframe\">\n",
       "  <thead>\n",
       "    <tr style=\"text-align: right;\">\n",
       "      <th></th>\n",
       "      <th>id</th>\n",
       "      <th>sub_type</th>\n",
       "      <th>listing_type</th>\n",
       "      <th>tom</th>\n",
       "      <th>building_age</th>\n",
       "      <th>total_floor_count</th>\n",
       "      <th>floor_no</th>\n",
       "      <th>room_count</th>\n",
       "      <th>size</th>\n",
       "      <th>address</th>\n",
       "      <th>heating_type</th>\n",
       "      <th>price</th>\n",
       "      <th>price_currency</th>\n",
       "      <th>start_date_year</th>\n",
       "      <th>start_date_month</th>\n",
       "    </tr>\n",
       "  </thead>\n",
       "  <tbody>\n",
       "    <tr>\n",
       "      <th>0</th>\n",
       "      <td>1</td>\n",
       "      <td>3</td>\n",
       "      <td>2</td>\n",
       "      <td>30</td>\n",
       "      <td>0</td>\n",
       "      <td>4</td>\n",
       "      <td>8</td>\n",
       "      <td>4</td>\n",
       "      <td>90.000000</td>\n",
       "      <td>5907</td>\n",
       "      <td>0</td>\n",
       "      <td>3500.0</td>\n",
       "      <td>2</td>\n",
       "      <td>2018.0</td>\n",
       "      <td>6</td>\n",
       "    </tr>\n",
       "    <tr>\n",
       "      <th>1</th>\n",
       "      <td>2</td>\n",
       "      <td>0</td>\n",
       "      <td>1</td>\n",
       "      <td>14</td>\n",
       "      <td>0</td>\n",
       "      <td>4</td>\n",
       "      <td>9</td>\n",
       "      <td>1</td>\n",
       "      <td>43.000000</td>\n",
       "      <td>5907</td>\n",
       "      <td>0</td>\n",
       "      <td>490000.0</td>\n",
       "      <td>2</td>\n",
       "      <td>2019.0</td>\n",
       "      <td>1</td>\n",
       "    </tr>\n",
       "    <tr>\n",
       "      <th>2</th>\n",
       "      <td>3</td>\n",
       "      <td>0</td>\n",
       "      <td>1</td>\n",
       "      <td>30</td>\n",
       "      <td>0</td>\n",
       "      <td>0</td>\n",
       "      <td>28</td>\n",
       "      <td>4</td>\n",
       "      <td>198.319951</td>\n",
       "      <td>4968</td>\n",
       "      <td>0</td>\n",
       "      <td>155000.0</td>\n",
       "      <td>2</td>\n",
       "      <td>2018.0</td>\n",
       "      <td>4</td>\n",
       "    </tr>\n",
       "    <tr>\n",
       "      <th>3</th>\n",
       "      <td>4</td>\n",
       "      <td>3</td>\n",
       "      <td>1</td>\n",
       "      <td>30</td>\n",
       "      <td>7</td>\n",
       "      <td>4</td>\n",
       "      <td>9</td>\n",
       "      <td>12</td>\n",
       "      <td>450.000000</td>\n",
       "      <td>5702</td>\n",
       "      <td>0</td>\n",
       "      <td>32500000.0</td>\n",
       "      <td>2</td>\n",
       "      <td>2018.0</td>\n",
       "      <td>3</td>\n",
       "    </tr>\n",
       "  </tbody>\n",
       "</table>\n",
       "</div>"
      ],
      "text/plain": [
       "   id  sub_type  listing_type  tom  building_age  total_floor_count  floor_no  \\\n",
       "0   1         3             2   30             0                  4         8   \n",
       "1   2         0             1   14             0                  4         9   \n",
       "2   3         0             1   30             0                  0        28   \n",
       "3   4         3             1   30             7                  4         9   \n",
       "\n",
       "   room_count        size  address  heating_type       price  price_currency  \\\n",
       "0           4   90.000000     5907             0      3500.0               2   \n",
       "1           1   43.000000     5907             0    490000.0               2   \n",
       "2           4  198.319951     4968             0    155000.0               2   \n",
       "3          12  450.000000     5702             0  32500000.0               2   \n",
       "\n",
       "   start_date_year  start_date_month  \n",
       "0           2018.0                 6  \n",
       "1           2019.0                 1  \n",
       "2           2018.0                 4  \n",
       "3           2018.0                 3  "
      ]
     },
     "execution_count": 2,
     "metadata": {},
     "output_type": "execute_result"
    }
   ],
   "source": [
    "df = pd.read_csv('./real_estate_data_clean.csv')\n",
    "df.head(4)"
   ]
  },
  {
   "cell_type": "code",
   "execution_count": 4,
   "metadata": {},
   "outputs": [],
   "source": [
    "X=df.drop([\"building_age\"],axis=1).values\n",
    "y=df[\"building_age\"].to_list()"
   ]
  },
  {
   "cell_type": "code",
   "execution_count": 32,
   "metadata": {},
   "outputs": [
    {
     "data": {
      "text/plain": [
       "0          0\n",
       "1          0\n",
       "2          0\n",
       "3          7\n",
       "4          0\n",
       "          ..\n",
       "361025     0\n",
       "361026     0\n",
       "361027    13\n",
       "361028     2\n",
       "361029     8\n",
       "Name: building_age, Length: 361030, dtype: int64"
      ]
     },
     "execution_count": 32,
     "metadata": {},
     "output_type": "execute_result"
    }
   ],
   "source": [
    "df[\"building_age\"]"
   ]
  },
  {
   "cell_type": "code",
   "execution_count": 5,
   "metadata": {},
   "outputs": [],
   "source": [
    "X_train,X_test,y_train, y_test=train_test_split(X,y,test_size=0.2, random_state=0)"
   ]
  },
  {
   "cell_type": "code",
   "execution_count": 33,
   "metadata": {},
   "outputs": [
    {
     "data": {
      "text/plain": [
       "SGDClassifier(random_state=0)"
      ]
     },
     "execution_count": 33,
     "metadata": {},
     "output_type": "execute_result"
    }
   ],
   "source": [
    "from sklearn.ensemble import RandomForestRegressor\n",
    "from sklearn.tree import DecisionTreeClassifier\n",
    "from sklearn.linear_model import SGDClassifier\n",
    "\n",
    "#mdl_select = SelectKBest(f_regression, k = 718)\n",
    "#X_new = mdl_select.fit_transform(X_train,y_train)\n",
    "#X_new_test = mdl_select.transform(X_test)\n",
    "\n",
    "mdl = SGDClassifier(random_state=0)\n",
    "mdl.fit(X_train,y_train)\n",
    "#y_tr1=mdl.predict(X_new)\n",
    "#y_pr=mdl.predict(X_new_test)\n",
    "\n",
    "#r2_score_rfr=r2_score(y_test, y_pr)\n",
    "#r2_model_scores.append(r2_score_rfr)\n",
    "\n",
    "#print('r2 :',r2_score_rfr)"
   ]
  },
  {
   "cell_type": "code",
   "execution_count": 44,
   "metadata": {},
   "outputs": [
    {
     "name": "stdout",
     "output_type": "stream",
     "text": [
      "Предсказание\n",
      "[0]\n",
      "\n",
      "Тестовая выборка\n",
      "Параметры\n",
      "[2.87096e+05 0.00000e+00 1.00000e+00 9.10000e+01 7.00000e+00 8.00000e+00\n",
      " 6.00000e+00 1.23000e+02 1.48400e+03 8.00000e+00 1.40000e+05 2.00000e+00\n",
      " 2.01800e+03 5.00000e+00]\n",
      "Правельный ответ:\n",
      "0\n"
     ]
    }
   ],
   "source": [
    "index = 9\n",
    "predict = mdl.predict([X_test[index]])\n",
    "print('Предсказание')\n",
    "print(predict)\n",
    "print('\\nТестовая выборка')\n",
    "print('Параметры')\n",
    "print(X_test[index])\n",
    "print('Правельный ответ:')\n",
    "print(y_test[index])"
   ]
  },
  {
   "cell_type": "code",
   "execution_count": null,
   "metadata": {},
   "outputs": [],
   "source": [
    "plt.figure(figsize=(25,20))\n",
    "metrics.plot_confusion_matrix(model, X_test, y_test)"
   ]
  }
 ],
 "metadata": {
  "kernelspec": {
   "display_name": "Python 3 (ipykernel)",
   "language": "python",
   "name": "python3"
  },
  "language_info": {
   "codemirror_mode": {
    "name": "ipython",
    "version": 3
   },
   "file_extension": ".py",
   "mimetype": "text/x-python",
   "name": "python",
   "nbconvert_exporter": "python",
   "pygments_lexer": "ipython3",
   "version": "3.8.5"
  }
 },
 "nbformat": 4,
 "nbformat_minor": 4
}
