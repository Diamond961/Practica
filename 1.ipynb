{
 "cells": [
  {
   "cell_type": "markdown",
   "metadata": {},
   "source": [
    "# Импорт модулей"
   ]
  },
  {
   "cell_type": "code",
   "execution_count": 1,
   "metadata": {},
   "outputs": [],
   "source": [
    "import pandas as pd\n",
    "import matplotlib.pyplot as plt\n",
    "import numpy as np\n",
    "import seaborn as sns\n",
    "from datetime import datetime\n",
    "from sklearn.preprocessing import LabelEncoder, OrdinalEncoder\n",
    "import warnings\n",
    "from datetime import datetime\n",
    "\n",
    "\n",
    "# Отключение предупреждений\n",
    "warnings.filterwarnings('ignore')"
   ]
  },
  {
   "cell_type": "markdown",
   "metadata": {},
   "source": [
    "# Сессия 1\n",
    "## 1.1 ЗАГРУЗКА ДАННЫХ \n"
   ]
  },
  {
   "cell_type": "code",
   "execution_count": 2,
   "metadata": {
    "scrolled": true
   },
   "outputs": [
    {
     "data": {
      "text/html": [
       "<div>\n",
       "<style scoped>\n",
       "    .dataframe tbody tr th:only-of-type {\n",
       "        vertical-align: middle;\n",
       "    }\n",
       "\n",
       "    .dataframe tbody tr th {\n",
       "        vertical-align: top;\n",
       "    }\n",
       "\n",
       "    .dataframe thead th {\n",
       "        text-align: right;\n",
       "    }\n",
       "</style>\n",
       "<table border=\"1\" class=\"dataframe\">\n",
       "  <thead>\n",
       "    <tr style=\"text-align: right;\">\n",
       "      <th></th>\n",
       "      <th>id</th>\n",
       "      <th>type</th>\n",
       "      <th>sub_type</th>\n",
       "      <th>start_date</th>\n",
       "      <th>end_date</th>\n",
       "      <th>listing_type</th>\n",
       "      <th>tom</th>\n",
       "      <th>building_age</th>\n",
       "      <th>total_floor_count</th>\n",
       "      <th>floor_no</th>\n",
       "      <th>room_count</th>\n",
       "      <th>size</th>\n",
       "      <th>address</th>\n",
       "      <th>furnished</th>\n",
       "      <th>heating_type</th>\n",
       "      <th>price</th>\n",
       "      <th>price_currency</th>\n",
       "    </tr>\n",
       "  </thead>\n",
       "  <tbody>\n",
       "    <tr>\n",
       "      <th>0</th>\n",
       "      <td>1</td>\n",
       "      <td>Konut</td>\n",
       "      <td>Rezidans</td>\n",
       "      <td>12/10/18</td>\n",
       "      <td>1/9/19</td>\n",
       "      <td>2</td>\n",
       "      <td>30</td>\n",
       "      <td>0</td>\n",
       "      <td>20 ve üzeri</td>\n",
       "      <td>2</td>\n",
       "      <td>2+1</td>\n",
       "      <td>90.0</td>\n",
       "      <td>İstanbul/Kartal/Kordonboyu</td>\n",
       "      <td>NaN</td>\n",
       "      <td>Fancoil</td>\n",
       "      <td>3500.0</td>\n",
       "      <td>TRY</td>\n",
       "    </tr>\n",
       "    <tr>\n",
       "      <th>1</th>\n",
       "      <td>2</td>\n",
       "      <td>Konut</td>\n",
       "      <td>Daire</td>\n",
       "      <td>2/13/19</td>\n",
       "      <td>NaN</td>\n",
       "      <td>1</td>\n",
       "      <td>14</td>\n",
       "      <td>0</td>\n",
       "      <td>20 ve üzeri</td>\n",
       "      <td>20 ve üzeri</td>\n",
       "      <td>1+0</td>\n",
       "      <td>43.0</td>\n",
       "      <td>İstanbul/Kartal/Kordonboyu</td>\n",
       "      <td>NaN</td>\n",
       "      <td>Fancoil</td>\n",
       "      <td>490000.0</td>\n",
       "      <td>TRY</td>\n",
       "    </tr>\n",
       "    <tr>\n",
       "      <th>2</th>\n",
       "      <td>3</td>\n",
       "      <td>Konut</td>\n",
       "      <td>Daire</td>\n",
       "      <td>10/9/18</td>\n",
       "      <td>11/8/18</td>\n",
       "      <td>1</td>\n",
       "      <td>30</td>\n",
       "      <td>0</td>\n",
       "      <td>1</td>\n",
       "      <td>Yüksek Giriş</td>\n",
       "      <td>2+1</td>\n",
       "      <td>NaN</td>\n",
       "      <td>Tekirdağ/Çorlu/Reşadiye</td>\n",
       "      <td>NaN</td>\n",
       "      <td>Fancoil</td>\n",
       "      <td>155000.0</td>\n",
       "      <td>TRY</td>\n",
       "    </tr>\n",
       "    <tr>\n",
       "      <th>3</th>\n",
       "      <td>4</td>\n",
       "      <td>Konut</td>\n",
       "      <td>Rezidans</td>\n",
       "      <td>9/10/18</td>\n",
       "      <td>10/10/18</td>\n",
       "      <td>1</td>\n",
       "      <td>30</td>\n",
       "      <td>3</td>\n",
       "      <td>20 ve üzeri</td>\n",
       "      <td>20 ve üzeri</td>\n",
       "      <td>6+1</td>\n",
       "      <td>450.0</td>\n",
       "      <td>İstanbul/Beşiktaş/Levent</td>\n",
       "      <td>NaN</td>\n",
       "      <td>Fancoil</td>\n",
       "      <td>32500000.0</td>\n",
       "      <td>TRY</td>\n",
       "    </tr>\n",
       "  </tbody>\n",
       "</table>\n",
       "</div>"
      ],
      "text/plain": [
       "   id   type  sub_type start_date  end_date  listing_type  tom building_age  \\\n",
       "0   1  Konut  Rezidans   12/10/18    1/9/19             2   30            0   \n",
       "1   2  Konut     Daire    2/13/19       NaN             1   14            0   \n",
       "2   3  Konut     Daire    10/9/18   11/8/18             1   30            0   \n",
       "3   4  Konut  Rezidans    9/10/18  10/10/18             1   30            3   \n",
       "\n",
       "  total_floor_count      floor_no room_count   size  \\\n",
       "0       20 ve üzeri             2        2+1   90.0   \n",
       "1       20 ve üzeri   20 ve üzeri        1+0   43.0   \n",
       "2                 1  Yüksek Giriş        2+1    NaN   \n",
       "3       20 ve üzeri   20 ve üzeri        6+1  450.0   \n",
       "\n",
       "                      address  furnished heating_type       price  \\\n",
       "0  İstanbul/Kartal/Kordonboyu        NaN      Fancoil      3500.0   \n",
       "1  İstanbul/Kartal/Kordonboyu        NaN      Fancoil    490000.0   \n",
       "2     Tekirdağ/Çorlu/Reşadiye        NaN      Fancoil    155000.0   \n",
       "3    İstanbul/Beşiktaş/Levent        NaN      Fancoil  32500000.0   \n",
       "\n",
       "  price_currency  \n",
       "0            TRY  \n",
       "1            TRY  \n",
       "2            TRY  \n",
       "3            TRY  "
      ]
     },
     "execution_count": 2,
     "metadata": {},
     "output_type": "execute_result"
    }
   ],
   "source": [
    "df = pd.read_csv('./real_estate_data.csv')\n",
    "df.head(4)"
   ]
  },
  {
   "cell_type": "code",
   "execution_count": 3,
   "metadata": {},
   "outputs": [
    {
     "name": "stdout",
     "output_type": "stream",
     "text": [
      "<class 'pandas.core.frame.DataFrame'>\n",
      "RangeIndex: 403487 entries, 0 to 403486\n",
      "Data columns (total 17 columns):\n",
      " #   Column             Non-Null Count   Dtype  \n",
      "---  ------             --------------   -----  \n",
      " 0   id                 403487 non-null  int64  \n",
      " 1   type               403487 non-null  object \n",
      " 2   sub_type           403487 non-null  object \n",
      " 3   start_date         403487 non-null  object \n",
      " 4   end_date           266298 non-null  object \n",
      " 5   listing_type       403487 non-null  int64  \n",
      " 6   tom                403487 non-null  int64  \n",
      " 7   building_age       376097 non-null  object \n",
      " 8   total_floor_count  375466 non-null  object \n",
      " 9   floor_no           368191 non-null  object \n",
      " 10  room_count         403487 non-null  object \n",
      " 11  size               257481 non-null  float64\n",
      " 12  address            403487 non-null  object \n",
      " 13  furnished          0 non-null       float64\n",
      " 14  heating_type       375517 non-null  object \n",
      " 15  price              402772 non-null  float64\n",
      " 16  price_currency     402772 non-null  object \n",
      "dtypes: float64(3), int64(3), object(11)\n",
      "memory usage: 52.3+ MB\n"
     ]
    }
   ],
   "source": [
    "df.info()"
   ]
  },
  {
   "cell_type": "markdown",
   "metadata": {},
   "source": [
    "## 1.2 ПРЕДОБРАБОТКА ДАННЫХ\n",
    "### Анализ данных\n",
    "#### Информация о размере таблицы"
   ]
  },
  {
   "cell_type": "code",
   "execution_count": 4,
   "metadata": {},
   "outputs": [
    {
     "data": {
      "text/plain": [
       "(403487, 17)"
      ]
     },
     "execution_count": 4,
     "metadata": {},
     "output_type": "execute_result"
    }
   ],
   "source": [
    "df.shape"
   ]
  },
  {
   "cell_type": "markdown",
   "metadata": {},
   "source": [
    "### Очистка дынных\n",
    "#### Удаление пустых запясей"
   ]
  },
  {
   "cell_type": "code",
   "execution_count": 5,
   "metadata": {},
   "outputs": [
    {
     "name": "stdout",
     "output_type": "stream",
     "text": [
      "Колличество запясий до удаления пустых значений: 403487\n",
      "Колличество запясий после удаления пустых значений: 403487\n"
     ]
    }
   ],
   "source": [
    "print(f'Колличество запясий до удаления пустых значений:', df.shape[0])\n",
    "df.dropna(how='all', inplace=True)\n",
    "print(f'Колличество запясий после удаления пустых значений:', df.shape[0])"
   ]
  },
  {
   "cell_type": "markdown",
   "metadata": {},
   "source": [
    "#### Удалдение дубликатов"
   ]
  },
  {
   "cell_type": "code",
   "execution_count": 73,
   "metadata": {},
   "outputs": [
    {
     "name": "stdout",
     "output_type": "stream",
     "text": [
      "Колличество запясий до удаление дубликатов: 403487\n",
      "Колличество запясий до удаление дубликатов: 403487\n"
     ]
    }
   ],
   "source": [
    "print(f'Колличество запясий до удаление дубликатов:', df.shape[0])\n",
    "df=df.drop_duplicates()\n",
    "print(f'Колличество запясий до удаление дубликатов:', df.shape[0])"
   ]
  },
  {
   "cell_type": "code",
   "execution_count": 6,
   "metadata": {},
   "outputs": [
    {
     "data": {
      "text/plain": [
       "Index(['type', 'sub_type', 'start_date', 'end_date', 'building_age',\n",
       "       'total_floor_count', 'floor_no', 'room_count', 'address',\n",
       "       'heating_type', 'price_currency'],\n",
       "      dtype='object')"
      ]
     },
     "execution_count": 6,
     "metadata": {},
     "output_type": "execute_result"
    }
   ],
   "source": [
    "# Поля обектных типов\n",
    "objList = df.select_dtypes(include = \"object\").columns\n",
    "objList"
   ]
  },
  {
   "cell_type": "code",
   "execution_count": 7,
   "metadata": {},
   "outputs": [
    {
     "data": {
      "text/html": [
       "<div>\n",
       "<style scoped>\n",
       "    .dataframe tbody tr th:only-of-type {\n",
       "        vertical-align: middle;\n",
       "    }\n",
       "\n",
       "    .dataframe tbody tr th {\n",
       "        vertical-align: top;\n",
       "    }\n",
       "\n",
       "    .dataframe thead th {\n",
       "        text-align: right;\n",
       "    }\n",
       "</style>\n",
       "<table border=\"1\" class=\"dataframe\">\n",
       "  <thead>\n",
       "    <tr style=\"text-align: right;\">\n",
       "      <th></th>\n",
       "      <th>id</th>\n",
       "      <th>listing_type</th>\n",
       "      <th>tom</th>\n",
       "      <th>size</th>\n",
       "      <th>furnished</th>\n",
       "      <th>price</th>\n",
       "    </tr>\n",
       "  </thead>\n",
       "  <tbody>\n",
       "    <tr>\n",
       "      <th>count</th>\n",
       "      <td>403487.00000</td>\n",
       "      <td>403487.000000</td>\n",
       "      <td>403487.000000</td>\n",
       "      <td>257481.000000</td>\n",
       "      <td>0.0</td>\n",
       "      <td>4.027720e+05</td>\n",
       "    </tr>\n",
       "    <tr>\n",
       "      <th>mean</th>\n",
       "      <td>201744.00000</td>\n",
       "      <td>1.294235</td>\n",
       "      <td>57.022739</td>\n",
       "      <td>279.349094</td>\n",
       "      <td>NaN</td>\n",
       "      <td>3.546417e+05</td>\n",
       "    </tr>\n",
       "    <tr>\n",
       "      <th>std</th>\n",
       "      <td>116476.80837</td>\n",
       "      <td>0.467733</td>\n",
       "      <td>44.358933</td>\n",
       "      <td>9429.195331</td>\n",
       "      <td>NaN</td>\n",
       "      <td>4.809503e+06</td>\n",
       "    </tr>\n",
       "    <tr>\n",
       "      <th>min</th>\n",
       "      <td>1.00000</td>\n",
       "      <td>1.000000</td>\n",
       "      <td>0.000000</td>\n",
       "      <td>1.000000</td>\n",
       "      <td>NaN</td>\n",
       "      <td>-2.500000e+02</td>\n",
       "    </tr>\n",
       "    <tr>\n",
       "      <th>25%</th>\n",
       "      <td>100872.50000</td>\n",
       "      <td>1.000000</td>\n",
       "      <td>29.000000</td>\n",
       "      <td>85.000000</td>\n",
       "      <td>NaN</td>\n",
       "      <td>2.500000e+03</td>\n",
       "    </tr>\n",
       "    <tr>\n",
       "      <th>50%</th>\n",
       "      <td>201744.00000</td>\n",
       "      <td>1.000000</td>\n",
       "      <td>40.000000</td>\n",
       "      <td>110.000000</td>\n",
       "      <td>NaN</td>\n",
       "      <td>1.990000e+05</td>\n",
       "    </tr>\n",
       "    <tr>\n",
       "      <th>75%</th>\n",
       "      <td>302615.50000</td>\n",
       "      <td>2.000000</td>\n",
       "      <td>90.000000</td>\n",
       "      <td>140.000000</td>\n",
       "      <td>NaN</td>\n",
       "      <td>3.420000e+05</td>\n",
       "    </tr>\n",
       "    <tr>\n",
       "      <th>max</th>\n",
       "      <td>403487.00000</td>\n",
       "      <td>3.000000</td>\n",
       "      <td>180.000000</td>\n",
       "      <td>948235.000000</td>\n",
       "      <td>NaN</td>\n",
       "      <td>2.000000e+09</td>\n",
       "    </tr>\n",
       "  </tbody>\n",
       "</table>\n",
       "</div>"
      ],
      "text/plain": [
       "                 id   listing_type            tom           size  furnished  \\\n",
       "count  403487.00000  403487.000000  403487.000000  257481.000000        0.0   \n",
       "mean   201744.00000       1.294235      57.022739     279.349094        NaN   \n",
       "std    116476.80837       0.467733      44.358933    9429.195331        NaN   \n",
       "min         1.00000       1.000000       0.000000       1.000000        NaN   \n",
       "25%    100872.50000       1.000000      29.000000      85.000000        NaN   \n",
       "50%    201744.00000       1.000000      40.000000     110.000000        NaN   \n",
       "75%    302615.50000       2.000000      90.000000     140.000000        NaN   \n",
       "max    403487.00000       3.000000     180.000000  948235.000000        NaN   \n",
       "\n",
       "              price  \n",
       "count  4.027720e+05  \n",
       "mean   3.546417e+05  \n",
       "std    4.809503e+06  \n",
       "min   -2.500000e+02  \n",
       "25%    2.500000e+03  \n",
       "50%    1.990000e+05  \n",
       "75%    3.420000e+05  \n",
       "max    2.000000e+09  "
      ]
     },
     "execution_count": 7,
     "metadata": {},
     "output_type": "execute_result"
    }
   ],
   "source": [
    "df.describe()"
   ]
  },
  {
   "cell_type": "markdown",
   "metadata": {},
   "source": [
    "#### Очистка даты"
   ]
  },
  {
   "cell_type": "code",
   "execution_count": 8,
   "metadata": {},
   "outputs": [],
   "source": [
    "df[\"start_date\"]=pd.to_datetime(df[\"start_date\"])\n",
    "df[\"end_date\"]=pd.to_datetime(df[\"end_date\"])"
   ]
  },
  {
   "cell_type": "code",
   "execution_count": 9,
   "metadata": {},
   "outputs": [],
   "source": [
    "df[\"start_date_year\"]=df.start_date.dt.strftime('%Y').astype(float)\n",
    "df[\"start_date_month\"]=df.start_date.dt.strftime('%m')\n",
    "df.drop(columns=[\"start_date\",\"end_date\"],inplace=True)"
   ]
  },
  {
   "cell_type": "markdown",
   "metadata": {},
   "source": [
    "#### Проценты пустых значений в столбцах"
   ]
  },
  {
   "cell_type": "code",
   "execution_count": 10,
   "metadata": {},
   "outputs": [
    {
     "name": "stdout",
     "output_type": "stream",
     "text": [
      "id - 0.0%\n",
      "type - 0.0%\n",
      "sub_type - 0.0%\n",
      "listing_type - 0.0%\n",
      "tom - 0.0%\n",
      "building_age - 6.788322796025646%\n",
      "total_floor_count - 6.944709494977533%\n",
      "floor_no - 8.7477415629252%\n",
      "room_count - 0.0%\n",
      "size - 36.18604812546625%\n",
      "address - 0.0%\n",
      "furnished - 100.0%\n",
      "heating_type - 6.932069682542437%\n",
      "price - 0.1772052135508703%\n",
      "price_currency - 0.1772052135508703%\n",
      "start_date_year - 0.0%\n",
      "start_date_month - 0.0%\n"
     ]
    }
   ],
   "source": [
    "for i in df.columns:\n",
    "    print(f'{i} - {df[i].isna().sum() / 403487 * 100}%')"
   ]
  },
  {
   "cell_type": "markdown",
   "metadata": {},
   "source": [
    "#### Тепловая карта пропусков"
   ]
  },
  {
   "cell_type": "code",
   "execution_count": 80,
   "metadata": {},
   "outputs": [],
   "source": [
    "#sns.heatmap(df.isna().transpose())"
   ]
  },
  {
   "cell_type": "markdown",
   "metadata": {},
   "source": [
    "### Удаление пустых столбцов"
   ]
  },
  {
   "cell_type": "code",
   "execution_count": 11,
   "metadata": {},
   "outputs": [],
   "source": [
    "# Слишком много пропусков\n",
    "df.drop('furnished', axis=1, inplace=True)"
   ]
  },
  {
   "cell_type": "code",
   "execution_count": 12,
   "metadata": {},
   "outputs": [
    {
     "name": "stdout",
     "output_type": "stream",
     "text": [
      "Konut    403487\n",
      "Name: type, dtype: int64\n"
     ]
    }
   ],
   "source": [
    "# Нет разных значений\n",
    "print(df['type'].value_counts())\n",
    "df.drop('type', axis=1, inplace=True)"
   ]
  },
  {
   "cell_type": "markdown",
   "metadata": {},
   "source": [
    "### Частота встречаемых колличест комнат"
   ]
  },
  {
   "cell_type": "code",
   "execution_count": 13,
   "metadata": {},
   "outputs": [
    {
     "data": {
      "text/plain": [
       "Text(0, 0.5, 'Frequency')"
      ]
     },
     "execution_count": 13,
     "metadata": {},
     "output_type": "execute_result"
    },
    {
     "data": {
      "image/png": "[encoded data removed]",
      "text/plain": [
       "<Figure size 576x432 with 1 Axes>"
      ]
     },
     "metadata": {
      "needs_background": "light"
     },
     "output_type": "display_data"
    }
   ],
   "source": [
    "ax=df[\"room_count\"].value_counts().plot(kind=\"bar\",figsize=(8,6),title=\"room_count\")\n",
    "ax.set_xlabel(\"room_count\")\n",
    "ax.set_ylabel(\"Frequency\")"
   ]
  },
  {
   "cell_type": "code",
   "execution_count": 84,
   "metadata": {},
   "outputs": [],
   "source": [
    "number_of_rooms=df.groupby(\"room_count\").size().sort_values(ascending=False).to_frame()\n",
    "number_of_rooms_biggerthan150=number_of_rooms[number_of_rooms[0]>150].index\n",
    "df = df[df.room_count.isin(number_of_rooms_biggerthan150)]"
   ]
  },
  {
   "cell_type": "markdown",
   "metadata": {},
   "source": [
    "### Частота встречаемых номеров этажей"
   ]
  },
  {
   "cell_type": "code",
   "execution_count": 85,
   "metadata": {},
   "outputs": [
    {
     "data": {
      "text/plain": [
       "Text(0, 0.5, 'Frequency')"
      ]
     },
     "execution_count": 85,
     "metadata": {},
     "output_type": "execute_result"
    },
    {
     "data": {
      "image/png": "[encoded data removed]",
      "text/plain": [
       "<Figure size 576x432 with 1 Axes>"
      ]
     },
     "metadata": {
      "needs_background": "light"
     },
     "output_type": "display_data"
    }
   ],
   "source": [
    "ax=df[\"floor_no\"].value_counts().plot(kind=\"bar\",figsize=(8,6),title=\"floor_no\")\n",
    "ax.set_xlabel(\"floor_no\")\n",
    "ax.set_ylabel(\"Frequency\")"
   ]
  },
  {
   "cell_type": "code",
   "execution_count": 14,
   "metadata": {},
   "outputs": [
    {
     "data": {
      "text/plain": [
       "floor_no\n",
       "2               60914\n",
       "3               32200\n",
       "1               28569\n",
       "Yüksek Giriş    24045\n",
       "Müstakil        21165\n",
       "4               21049\n",
       "3               20490\n",
       "Bahçe katı      19065\n",
       "1               18187\n",
       "4               13416\n",
       "5               12495\n",
       "Giriş Katı      10431\n",
       "5                8698\n",
       "6                5116\n",
       "Kot 1            5036\n",
       "Kot 2            4987\n",
       "2                4950\n",
       "9                4855\n",
       "6                4631\n",
       "8                4608\n",
       "7                4398\n",
       "10               3863\n",
       "Kot 3            3793\n",
       "Çatı Katı        3566\n",
       "Zemin Kat        3441\n",
       "7                3300\n",
       "Komple           2958\n",
       "11               2894\n",
       "12               2308\n",
       "Kot 4            2269\n",
       "13               1702\n",
       "20 ve üzeri      1563\n",
       "8                1491\n",
       "+15              1484\n",
       "14               1328\n",
       "15                911\n",
       "En Üst Kat        894\n",
       "Bodrum Kat        815\n",
       "Teras Kat         293\n",
       "Asma Kat           12\n",
       "12                  1\n",
       "dtype: int64"
      ]
     },
     "execution_count": 14,
     "metadata": {},
     "output_type": "execute_result"
    }
   ],
   "source": [
    "list_change=['16','17','18','19','20','21','22','23','24','25','26','27','28','29','30','30  and more than']\n",
    "for x in list_change:\n",
    "    df.loc[(df.floor_no == x),'floor_no']=\"+15\"\n",
    "df.groupby(\"floor_no\").size().sort_values(ascending=False)"
   ]
  },
  {
   "cell_type": "code",
   "execution_count": 15,
   "metadata": {},
   "outputs": [],
   "source": [
    "floor_location=df.groupby(\"floor_no\").size().sort_values(ascending=False).to_frame()\n",
    "\n",
    "floor_location_biggerthan200=floor_location[floor_location[0]>200].index\n",
    "\n",
    "df = df[df.floor_no.isin(floor_location_biggerthan200)]"
   ]
  },
  {
   "cell_type": "code",
   "execution_count": 16,
   "metadata": {},
   "outputs": [
    {
     "data": {
      "text/plain": [
       "Text(0, 0.5, 'Frequency')"
      ]
     },
     "execution_count": 16,
     "metadata": {},
     "output_type": "execute_result"
    },
    {
     "data": {
      "image/png": "[encoded data removed]",
      "text/plain": [
       "<Figure size 576x432 with 1 Axes>"
      ]
     },
     "metadata": {
      "needs_background": "light"
     },
     "output_type": "display_data"
    }
   ],
   "source": [
    "ax=df[\"heating_type\"].value_counts().plot(kind=\"bar\",figsize=(8,6),title=\"heating_type\")\n",
    "ax.set_xlabel(\"heating_type\")\n",
    "ax.set_ylabel(\"Frequency\")"
   ]
  },
  {
   "cell_type": "code",
   "execution_count": 17,
   "metadata": {},
   "outputs": [],
   "source": [
    "heating=df.groupby(\"heating_type\").size().sort_values(ascending=False).to_frame()\n",
    "\n",
    "heating_biggerthan100=heating[heating[0]>100].index\n",
    "\n",
    "data = df[df.heating_type.isin(heating_biggerthan100)]"
   ]
  },
  {
   "cell_type": "code",
   "execution_count": 18,
   "metadata": {
    "scrolled": true
   },
   "outputs": [
    {
     "data": {
      "text/plain": [
       "Text(0, 0.5, 'Frequency')"
      ]
     },
     "execution_count": 18,
     "metadata": {},
     "output_type": "execute_result"
    },
    {
     "data": {
      "image/png": "[encoded data removed]",
      "text/plain": [
       "<Figure size 576x432 with 1 Axes>"
      ]
     },
     "metadata": {
      "needs_background": "light"
     },
     "output_type": "display_data"
    }
   ],
   "source": [
    "ax=df[\"total_floor_count\"].value_counts().plot(kind=\"bar\",figsize=(8,6),title=\"total_floor_count\")\n",
    "ax.set_xlabel(\"total_floor_count\")\n",
    "ax.set_ylabel(\"Frequency\")"
   ]
  },
  {
   "cell_type": "code",
   "execution_count": 19,
   "metadata": {},
   "outputs": [],
   "source": [
    "number_of_bathrooms=df.groupby(\"total_floor_count\").size().sort_values(ascending=False).to_frame()\n",
    "\n",
    "number_of_bathrooms_biggerthan200=number_of_bathrooms[number_of_bathrooms[0]>200].index\n",
    "\n",
    "data = df[df.total_floor_count.isin(number_of_bathrooms_biggerthan200)]"
   ]
  },
  {
   "cell_type": "code",
   "execution_count": 20,
   "metadata": {},
   "outputs": [],
   "source": [
    "df['size'].fillna(df['size'].mean(), inplace=True)\n",
    "#df['price'].fillna(df['price'].mean(), inplace=True)\n",
    "#df['end_date'].fillna(df['end_date'].mode()[0], inplace=True)\n",
    "#df['building_age'].fillna(df['building_age'].mode()[0], inplace=True)\n",
    "\n",
    "df.dropna(subset=['building_age'], inplace=True)\n",
    "df.dropna(subset=['price'], inplace=True)\n",
    "#df.dropna(subset=['address_district'], inplace=True)\n",
    "#df.dropna(subset=['address_county'], inplace=True)\n",
    "#df.dropna(subset=['address_city'], inplace=True)\n",
    "\n",
    "#df['room_count_separately'].fillna(df['room_count_separately'].mode()[0], inplace=True)\n",
    "#df['livingroom_count_separately'].fillna(df['livingroom_count_separately'].mode()[0], inplace=True)\n",
    "#df['floor_no'].fillna(df['floor_no'].mode()[0], inplace=True)\n",
    "\n",
    "df['total_floor_count'].fillna(df['total_floor_count'].mode()[0], inplace=True)\n",
    "df['floor_no'].fillna(df['floor_no'].mode()[0], inplace=True)\n",
    "df['heating_type'].fillna(df['heating_type'].mode()[0], inplace=True)\n",
    "df['price_currency'].fillna(df['price_currency'].mode()[0], inplace=True)"
   ]
  },
  {
   "cell_type": "markdown",
   "metadata": {},
   "source": [
    "### Категориальные признаки"
   ]
  },
  {
   "cell_type": "code",
   "execution_count": 21,
   "metadata": {},
   "outputs": [
    {
     "name": "stdout",
     "output_type": "stream",
     "text": [
      "Index(['sub_type', 'building_age', 'total_floor_count', 'floor_no',\n",
      "       'room_count', 'address', 'heating_type', 'price_currency',\n",
      "       'start_date_month'],\n",
      "      dtype='object')\n"
     ]
    }
   ],
   "source": [
    "objList2 = df.select_dtypes(include = \"object\").columns\n",
    "print (objList2)"
   ]
  },
  {
   "cell_type": "code",
   "execution_count": 22,
   "metadata": {},
   "outputs": [],
   "source": [
    "#data_new=pd.get_dummies(df,columns=objList2,drop_first=True)\n",
    "#data_new.columns"
   ]
  },
  {
   "cell_type": "code",
   "execution_count": 23,
   "metadata": {},
   "outputs": [],
   "source": [
    "df['floor_no']=df['floor_no'].astype(str)\n",
    "df['floor_no'] = LabelEncoder().fit_transform(df['floor_no'])"
   ]
  },
  {
   "cell_type": "code",
   "execution_count": 24,
   "metadata": {},
   "outputs": [],
   "source": [
    "fields = [\n",
    "    'building_age',\n",
    "    'total_floor_count',\n",
    "    'room_count',\n",
    "    'address',\n",
    "    'heating_type',\n",
    "    'price_currency',\n",
    "    'start_date_month',\n",
    "    'sub_type',\n",
    "    'price_currency',\n",
    "]\n",
    "for col in fields:\n",
    "    df[col] = LabelEncoder().fit_transform(df[col])\n",
    "\n",
    "#df"
   ]
  },
  {
   "cell_type": "code",
   "execution_count": 25,
   "metadata": {},
   "outputs": [
    {
     "name": "stdout",
     "output_type": "stream",
     "text": [
      "<class 'pandas.core.frame.DataFrame'>\n",
      "Int64Index: 361516 entries, 0 to 388924\n",
      "Data columns (total 15 columns):\n",
      " #   Column             Non-Null Count   Dtype  \n",
      "---  ------             --------------   -----  \n",
      " 0   id                 361516 non-null  int64  \n",
      " 1   sub_type           361516 non-null  int64  \n",
      " 2   listing_type       361516 non-null  int64  \n",
      " 3   tom                361516 non-null  int64  \n",
      " 4   building_age       361516 non-null  int64  \n",
      " 5   total_floor_count  361516 non-null  int64  \n",
      " 6   floor_no           361516 non-null  int64  \n",
      " 7   room_count         361516 non-null  int64  \n",
      " 8   size               361516 non-null  float64\n",
      " 9   address            361516 non-null  int64  \n",
      " 10  heating_type       361516 non-null  int64  \n",
      " 11  price              361516 non-null  float64\n",
      " 12  price_currency     361516 non-null  int64  \n",
      " 13  start_date_year    361516 non-null  float64\n",
      " 14  start_date_month   361516 non-null  int64  \n",
      "dtypes: float64(3), int64(12)\n",
      "memory usage: 44.1 MB\n"
     ]
    }
   ],
   "source": [
    "df.info()"
   ]
  },
  {
   "cell_type": "markdown",
   "metadata": {},
   "source": [
    "# Сохранение данных"
   ]
  },
  {
   "cell_type": "code",
   "execution_count": 26,
   "metadata": {},
   "outputs": [],
   "source": [
    "df.to_csv('./real_estate_data_clean.csv', index=False)"
   ]
  },
  {
   "cell_type": "code",
   "execution_count": null,
   "metadata": {},
   "outputs": [],
   "source": []
  }
 ],
 "metadata": {
  "kernelspec": {
   "display_name": "Python 3 (ipykernel)",
   "language": "python",
   "name": "python3"
  },
  "language_info": {
   "codemirror_mode": {
    "name": "ipython",
    "version": 3
   },
   "file_extension": ".py",
   "mimetype": "text/x-python",
   "name": "python",
   "nbconvert_exporter": "python",
   "pygments_lexer": "ipython3",
   "version": "3.8.5"
  }
 },
 "nbformat": 4,
 "nbformat_minor": 4
}
