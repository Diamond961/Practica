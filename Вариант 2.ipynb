{
 "cells": [
  {
   "cell_type": "markdown",
   "id": "4fa112cd",
   "metadata": {},
   "source": [
    "# Загрузка данных"
   ]
  },
  {
   "cell_type": "code",
   "execution_count": 1,
   "id": "174ece40",
   "metadata": {},
   "outputs": [],
   "source": [
    "import numpy as np\n",
    "import matplotlib.pyplot as plt\n",
    "import seaborn as sns\n",
    "import pandas as pd\n",
    "from sklearn import preprocessing\n",
    "from sklearn.preprocessing import OrdinalEncoder"
   ]
  },
  {
   "cell_type": "code",
   "execution_count": 2,
   "id": "778eb513",
   "metadata": {},
   "outputs": [],
   "source": [
    "# Читаем набор данных\n",
    "df = pd.read_csv('real_estate_data.csv', low_memory=False, index_col='id')"
   ]
  },
  {
   "cell_type": "markdown",
   "id": "bc0af294",
   "metadata": {},
   "source": [
    "### Читаем данные"
   ]
  },
  {
   "cell_type": "code",
   "execution_count": 3,
   "id": "846bfe39",
   "metadata": {
    "scrolled": false
   },
   "outputs": [
    {
     "data": {
      "text/html": [
       "<div>\n",
       "<style scoped>\n",
       "    .dataframe tbody tr th:only-of-type {\n",
       "        vertical-align: middle;\n",
       "    }\n",
       "\n",
       "    .dataframe tbody tr th {\n",
       "        vertical-align: top;\n",
       "    }\n",
       "\n",
       "    .dataframe thead th {\n",
       "        text-align: right;\n",
       "    }\n",
       "</style>\n",
       "<table border=\"1\" class=\"dataframe\">\n",
       "  <thead>\n",
       "    <tr style=\"text-align: right;\">\n",
       "      <th></th>\n",
       "      <th>type</th>\n",
       "      <th>sub_type</th>\n",
       "      <th>start_date</th>\n",
       "      <th>end_date</th>\n",
       "      <th>listing_type</th>\n",
       "      <th>tom</th>\n",
       "      <th>building_age</th>\n",
       "      <th>total_floor_count</th>\n",
       "      <th>floor_no</th>\n",
       "      <th>room_count</th>\n",
       "      <th>size</th>\n",
       "      <th>address</th>\n",
       "      <th>furnished</th>\n",
       "      <th>heating_type</th>\n",
       "      <th>price</th>\n",
       "      <th>price_currency</th>\n",
       "    </tr>\n",
       "    <tr>\n",
       "      <th>id</th>\n",
       "      <th></th>\n",
       "      <th></th>\n",
       "      <th></th>\n",
       "      <th></th>\n",
       "      <th></th>\n",
       "      <th></th>\n",
       "      <th></th>\n",
       "      <th></th>\n",
       "      <th></th>\n",
       "      <th></th>\n",
       "      <th></th>\n",
       "      <th></th>\n",
       "      <th></th>\n",
       "      <th></th>\n",
       "      <th></th>\n",
       "      <th></th>\n",
       "    </tr>\n",
       "  </thead>\n",
       "  <tbody>\n",
       "    <tr>\n",
       "      <th>1</th>\n",
       "      <td>Konut</td>\n",
       "      <td>Rezidans</td>\n",
       "      <td>12/10/18</td>\n",
       "      <td>1/9/19</td>\n",
       "      <td>2</td>\n",
       "      <td>30</td>\n",
       "      <td>0</td>\n",
       "      <td>20 ve üzeri</td>\n",
       "      <td>2</td>\n",
       "      <td>2+1</td>\n",
       "      <td>90.0</td>\n",
       "      <td>İstanbul/Kartal/Kordonboyu</td>\n",
       "      <td>NaN</td>\n",
       "      <td>Fancoil</td>\n",
       "      <td>3500.0</td>\n",
       "      <td>TRY</td>\n",
       "    </tr>\n",
       "    <tr>\n",
       "      <th>2</th>\n",
       "      <td>Konut</td>\n",
       "      <td>Daire</td>\n",
       "      <td>2/13/19</td>\n",
       "      <td>NaN</td>\n",
       "      <td>1</td>\n",
       "      <td>14</td>\n",
       "      <td>0</td>\n",
       "      <td>20 ve üzeri</td>\n",
       "      <td>20 ve üzeri</td>\n",
       "      <td>1+0</td>\n",
       "      <td>43.0</td>\n",
       "      <td>İstanbul/Kartal/Kordonboyu</td>\n",
       "      <td>NaN</td>\n",
       "      <td>Fancoil</td>\n",
       "      <td>490000.0</td>\n",
       "      <td>TRY</td>\n",
       "    </tr>\n",
       "    <tr>\n",
       "      <th>3</th>\n",
       "      <td>Konut</td>\n",
       "      <td>Daire</td>\n",
       "      <td>10/9/18</td>\n",
       "      <td>11/8/18</td>\n",
       "      <td>1</td>\n",
       "      <td>30</td>\n",
       "      <td>0</td>\n",
       "      <td>1</td>\n",
       "      <td>Yüksek Giriş</td>\n",
       "      <td>2+1</td>\n",
       "      <td>NaN</td>\n",
       "      <td>Tekirdağ/Çorlu/Reşadiye</td>\n",
       "      <td>NaN</td>\n",
       "      <td>Fancoil</td>\n",
       "      <td>155000.0</td>\n",
       "      <td>TRY</td>\n",
       "    </tr>\n",
       "    <tr>\n",
       "      <th>4</th>\n",
       "      <td>Konut</td>\n",
       "      <td>Rezidans</td>\n",
       "      <td>9/10/18</td>\n",
       "      <td>10/10/18</td>\n",
       "      <td>1</td>\n",
       "      <td>30</td>\n",
       "      <td>3</td>\n",
       "      <td>20 ve üzeri</td>\n",
       "      <td>20 ve üzeri</td>\n",
       "      <td>6+1</td>\n",
       "      <td>450.0</td>\n",
       "      <td>İstanbul/Beşiktaş/Levent</td>\n",
       "      <td>NaN</td>\n",
       "      <td>Fancoil</td>\n",
       "      <td>32500000.0</td>\n",
       "      <td>TRY</td>\n",
       "    </tr>\n",
       "    <tr>\n",
       "      <th>5</th>\n",
       "      <td>Konut</td>\n",
       "      <td>Rezidans</td>\n",
       "      <td>12/10/18</td>\n",
       "      <td>1/9/19</td>\n",
       "      <td>1</td>\n",
       "      <td>30</td>\n",
       "      <td>0</td>\n",
       "      <td>20 ve üzeri</td>\n",
       "      <td>2</td>\n",
       "      <td>2+1</td>\n",
       "      <td>90.0</td>\n",
       "      <td>İstanbul/Kartal/Kordonboyu</td>\n",
       "      <td>NaN</td>\n",
       "      <td>Fancoil</td>\n",
       "      <td>1450000.0</td>\n",
       "      <td>TRY</td>\n",
       "    </tr>\n",
       "    <tr>\n",
       "      <th>6</th>\n",
       "      <td>Konut</td>\n",
       "      <td>Rezidans</td>\n",
       "      <td>11/9/18</td>\n",
       "      <td>12/9/18</td>\n",
       "      <td>1</td>\n",
       "      <td>30</td>\n",
       "      <td>2</td>\n",
       "      <td>10-20 arası</td>\n",
       "      <td>10</td>\n",
       "      <td>1+1</td>\n",
       "      <td>45.0</td>\n",
       "      <td>İstanbul/Maltepe/Altayçeşme</td>\n",
       "      <td>NaN</td>\n",
       "      <td>Fancoil</td>\n",
       "      <td>780000.0</td>\n",
       "      <td>TRY</td>\n",
       "    </tr>\n",
       "    <tr>\n",
       "      <th>7</th>\n",
       "      <td>Konut</td>\n",
       "      <td>Daire</td>\n",
       "      <td>1/4/19</td>\n",
       "      <td>NaN</td>\n",
       "      <td>2</td>\n",
       "      <td>54</td>\n",
       "      <td>0</td>\n",
       "      <td>20 ve üzeri</td>\n",
       "      <td>14</td>\n",
       "      <td>3+1</td>\n",
       "      <td>160.0</td>\n",
       "      <td>İstanbul/Kartal/Kordonboyu</td>\n",
       "      <td>NaN</td>\n",
       "      <td>Fancoil</td>\n",
       "      <td>3750.0</td>\n",
       "      <td>TRY</td>\n",
       "    </tr>\n",
       "    <tr>\n",
       "      <th>8</th>\n",
       "      <td>Konut</td>\n",
       "      <td>Villa</td>\n",
       "      <td>10/3/18</td>\n",
       "      <td>1/3/19</td>\n",
       "      <td>1</td>\n",
       "      <td>92</td>\n",
       "      <td>0</td>\n",
       "      <td>4</td>\n",
       "      <td>NaN</td>\n",
       "      <td>4+1</td>\n",
       "      <td>NaN</td>\n",
       "      <td>İzmir/Urla/M. Fevzi Çakmak</td>\n",
       "      <td>NaN</td>\n",
       "      <td>Fancoil</td>\n",
       "      <td>1500000.0</td>\n",
       "      <td>TRY</td>\n",
       "    </tr>\n",
       "    <tr>\n",
       "      <th>9</th>\n",
       "      <td>Konut</td>\n",
       "      <td>Daire</td>\n",
       "      <td>2/16/19</td>\n",
       "      <td>NaN</td>\n",
       "      <td>1</td>\n",
       "      <td>11</td>\n",
       "      <td>NaN</td>\n",
       "      <td>2</td>\n",
       "      <td>Kot 2</td>\n",
       "      <td>3+1</td>\n",
       "      <td>140.0</td>\n",
       "      <td>Çanakkale/Ayvacık/Küçükkuyu Bld. (Mıhlı)</td>\n",
       "      <td>NaN</td>\n",
       "      <td>Fancoil</td>\n",
       "      <td>1500000.0</td>\n",
       "      <td>TRY</td>\n",
       "    </tr>\n",
       "    <tr>\n",
       "      <th>10</th>\n",
       "      <td>Konut</td>\n",
       "      <td>Daire</td>\n",
       "      <td>12/26/18</td>\n",
       "      <td>12/26/18</td>\n",
       "      <td>1</td>\n",
       "      <td>0</td>\n",
       "      <td>1</td>\n",
       "      <td>1</td>\n",
       "      <td>Asma Kat</td>\n",
       "      <td>2+2</td>\n",
       "      <td>550.0</td>\n",
       "      <td>İstanbul/Fatih/Sarıdemir</td>\n",
       "      <td>NaN</td>\n",
       "      <td>Fancoil</td>\n",
       "      <td>84256.0</td>\n",
       "      <td>GBP</td>\n",
       "    </tr>\n",
       "  </tbody>\n",
       "</table>\n",
       "</div>"
      ],
      "text/plain": [
       "     type  sub_type start_date  end_date  listing_type  tom building_age  \\\n",
       "id                                                                         \n",
       "1   Konut  Rezidans   12/10/18    1/9/19             2   30            0   \n",
       "2   Konut     Daire    2/13/19       NaN             1   14            0   \n",
       "3   Konut     Daire    10/9/18   11/8/18             1   30            0   \n",
       "4   Konut  Rezidans    9/10/18  10/10/18             1   30            3   \n",
       "5   Konut  Rezidans   12/10/18    1/9/19             1   30            0   \n",
       "6   Konut  Rezidans    11/9/18   12/9/18             1   30            2   \n",
       "7   Konut     Daire     1/4/19       NaN             2   54            0   \n",
       "8   Konut     Villa    10/3/18    1/3/19             1   92            0   \n",
       "9   Konut     Daire    2/16/19       NaN             1   11          NaN   \n",
       "10  Konut     Daire   12/26/18  12/26/18             1    0            1   \n",
       "\n",
       "   total_floor_count      floor_no room_count   size  \\\n",
       "id                                                     \n",
       "1        20 ve üzeri             2        2+1   90.0   \n",
       "2        20 ve üzeri   20 ve üzeri        1+0   43.0   \n",
       "3                  1  Yüksek Giriş        2+1    NaN   \n",
       "4        20 ve üzeri   20 ve üzeri        6+1  450.0   \n",
       "5        20 ve üzeri             2        2+1   90.0   \n",
       "6        10-20 arası            10        1+1   45.0   \n",
       "7        20 ve üzeri            14        3+1  160.0   \n",
       "8                  4           NaN        4+1    NaN   \n",
       "9                  2         Kot 2        3+1  140.0   \n",
       "10                 1      Asma Kat        2+2  550.0   \n",
       "\n",
       "                                     address  furnished heating_type  \\\n",
       "id                                                                     \n",
       "1                 İstanbul/Kartal/Kordonboyu        NaN      Fancoil   \n",
       "2                 İstanbul/Kartal/Kordonboyu        NaN      Fancoil   \n",
       "3                    Tekirdağ/Çorlu/Reşadiye        NaN      Fancoil   \n",
       "4                   İstanbul/Beşiktaş/Levent        NaN      Fancoil   \n",
       "5                 İstanbul/Kartal/Kordonboyu        NaN      Fancoil   \n",
       "6                İstanbul/Maltepe/Altayçeşme        NaN      Fancoil   \n",
       "7                 İstanbul/Kartal/Kordonboyu        NaN      Fancoil   \n",
       "8                 İzmir/Urla/M. Fevzi Çakmak        NaN      Fancoil   \n",
       "9   Çanakkale/Ayvacık/Küçükkuyu Bld. (Mıhlı)        NaN      Fancoil   \n",
       "10                  İstanbul/Fatih/Sarıdemir        NaN      Fancoil   \n",
       "\n",
       "         price price_currency  \n",
       "id                             \n",
       "1       3500.0            TRY  \n",
       "2     490000.0            TRY  \n",
       "3     155000.0            TRY  \n",
       "4   32500000.0            TRY  \n",
       "5    1450000.0            TRY  \n",
       "6     780000.0            TRY  \n",
       "7       3750.0            TRY  \n",
       "8    1500000.0            TRY  \n",
       "9    1500000.0            TRY  \n",
       "10     84256.0            GBP  "
      ]
     },
     "execution_count": 3,
     "metadata": {},
     "output_type": "execute_result"
    }
   ],
   "source": [
    "df.head(10)"
   ]
  },
  {
   "cell_type": "code",
   "execution_count": 4,
   "id": "505e4d90",
   "metadata": {},
   "outputs": [
    {
     "data": {
      "text/html": [
       "<div>\n",
       "<style scoped>\n",
       "    .dataframe tbody tr th:only-of-type {\n",
       "        vertical-align: middle;\n",
       "    }\n",
       "\n",
       "    .dataframe tbody tr th {\n",
       "        vertical-align: top;\n",
       "    }\n",
       "\n",
       "    .dataframe thead th {\n",
       "        text-align: right;\n",
       "    }\n",
       "</style>\n",
       "<table border=\"1\" class=\"dataframe\">\n",
       "  <thead>\n",
       "    <tr style=\"text-align: right;\">\n",
       "      <th></th>\n",
       "      <th>listing_type</th>\n",
       "      <th>tom</th>\n",
       "      <th>size</th>\n",
       "      <th>furnished</th>\n",
       "      <th>price</th>\n",
       "    </tr>\n",
       "  </thead>\n",
       "  <tbody>\n",
       "    <tr>\n",
       "      <th>count</th>\n",
       "      <td>403487.000000</td>\n",
       "      <td>403487.000000</td>\n",
       "      <td>257481.000000</td>\n",
       "      <td>0.0</td>\n",
       "      <td>4.027720e+05</td>\n",
       "    </tr>\n",
       "    <tr>\n",
       "      <th>mean</th>\n",
       "      <td>1.294235</td>\n",
       "      <td>57.022739</td>\n",
       "      <td>279.349094</td>\n",
       "      <td>NaN</td>\n",
       "      <td>3.546417e+05</td>\n",
       "    </tr>\n",
       "    <tr>\n",
       "      <th>std</th>\n",
       "      <td>0.467733</td>\n",
       "      <td>44.358933</td>\n",
       "      <td>9429.195331</td>\n",
       "      <td>NaN</td>\n",
       "      <td>4.809503e+06</td>\n",
       "    </tr>\n",
       "    <tr>\n",
       "      <th>min</th>\n",
       "      <td>1.000000</td>\n",
       "      <td>0.000000</td>\n",
       "      <td>1.000000</td>\n",
       "      <td>NaN</td>\n",
       "      <td>-2.500000e+02</td>\n",
       "    </tr>\n",
       "    <tr>\n",
       "      <th>25%</th>\n",
       "      <td>1.000000</td>\n",
       "      <td>29.000000</td>\n",
       "      <td>85.000000</td>\n",
       "      <td>NaN</td>\n",
       "      <td>2.500000e+03</td>\n",
       "    </tr>\n",
       "    <tr>\n",
       "      <th>50%</th>\n",
       "      <td>1.000000</td>\n",
       "      <td>40.000000</td>\n",
       "      <td>110.000000</td>\n",
       "      <td>NaN</td>\n",
       "      <td>1.990000e+05</td>\n",
       "    </tr>\n",
       "    <tr>\n",
       "      <th>75%</th>\n",
       "      <td>2.000000</td>\n",
       "      <td>90.000000</td>\n",
       "      <td>140.000000</td>\n",
       "      <td>NaN</td>\n",
       "      <td>3.420000e+05</td>\n",
       "    </tr>\n",
       "    <tr>\n",
       "      <th>max</th>\n",
       "      <td>3.000000</td>\n",
       "      <td>180.000000</td>\n",
       "      <td>948235.000000</td>\n",
       "      <td>NaN</td>\n",
       "      <td>2.000000e+09</td>\n",
       "    </tr>\n",
       "  </tbody>\n",
       "</table>\n",
       "</div>"
      ],
      "text/plain": [
       "        listing_type            tom           size  furnished         price\n",
       "count  403487.000000  403487.000000  257481.000000        0.0  4.027720e+05\n",
       "mean        1.294235      57.022739     279.349094        NaN  3.546417e+05\n",
       "std         0.467733      44.358933    9429.195331        NaN  4.809503e+06\n",
       "min         1.000000       0.000000       1.000000        NaN -2.500000e+02\n",
       "25%         1.000000      29.000000      85.000000        NaN  2.500000e+03\n",
       "50%         1.000000      40.000000     110.000000        NaN  1.990000e+05\n",
       "75%         2.000000      90.000000     140.000000        NaN  3.420000e+05\n",
       "max         3.000000     180.000000  948235.000000        NaN  2.000000e+09"
      ]
     },
     "execution_count": 4,
     "metadata": {},
     "output_type": "execute_result"
    }
   ],
   "source": [
    "df.describe()"
   ]
  },
  {
   "cell_type": "code",
   "execution_count": 5,
   "id": "d47fb124",
   "metadata": {},
   "outputs": [
    {
     "name": "stdout",
     "output_type": "stream",
     "text": [
      "<class 'pandas.core.frame.DataFrame'>\n",
      "Int64Index: 403487 entries, 1 to 403487\n",
      "Data columns (total 16 columns):\n",
      " #   Column             Non-Null Count   Dtype  \n",
      "---  ------             --------------   -----  \n",
      " 0   type               403487 non-null  object \n",
      " 1   sub_type           403487 non-null  object \n",
      " 2   start_date         403487 non-null  object \n",
      " 3   end_date           266298 non-null  object \n",
      " 4   listing_type       403487 non-null  int64  \n",
      " 5   tom                403487 non-null  int64  \n",
      " 6   building_age       376097 non-null  object \n",
      " 7   total_floor_count  375466 non-null  object \n",
      " 8   floor_no           368191 non-null  object \n",
      " 9   room_count         403487 non-null  object \n",
      " 10  size               257481 non-null  float64\n",
      " 11  address            403487 non-null  object \n",
      " 12  furnished          0 non-null       float64\n",
      " 13  heating_type       375517 non-null  object \n",
      " 14  price              402772 non-null  float64\n",
      " 15  price_currency     402772 non-null  object \n",
      "dtypes: float64(3), int64(2), object(11)\n",
      "memory usage: 52.3+ MB\n"
     ]
    }
   ],
   "source": [
    "df.info()"
   ]
  },
  {
   "cell_type": "markdown",
   "id": "2ce2bdb9",
   "metadata": {},
   "source": [
    "### Просмотр пустых значений"
   ]
  },
  {
   "cell_type": "code",
   "execution_count": 6,
   "id": "ca525de1",
   "metadata": {},
   "outputs": [
    {
     "data": {
      "text/plain": [
       "type                      0\n",
       "sub_type                  0\n",
       "start_date                0\n",
       "end_date             137189\n",
       "listing_type              0\n",
       "tom                       0\n",
       "building_age          27390\n",
       "total_floor_count     28021\n",
       "floor_no              35296\n",
       "room_count                0\n",
       "size                 146006\n",
       "address                   0\n",
       "furnished            403487\n",
       "heating_type          27970\n",
       "price                   715\n",
       "price_currency          715\n",
       "dtype: int64"
      ]
     },
     "execution_count": 6,
     "metadata": {},
     "output_type": "execute_result"
    }
   ],
   "source": [
    "df.isnull().sum()"
   ]
  },
  {
   "cell_type": "code",
   "execution_count": 7,
   "id": "4e1cd2d0",
   "metadata": {},
   "outputs": [
    {
     "name": "stdout",
     "output_type": "stream",
     "text": [
      "type - 0%\n",
      "sub_type - 0%\n",
      "start_date - 0%\n",
      "end_date - 34%\n",
      "listing_type - 0%\n",
      "tom - 0%\n",
      "building_age - 7%\n",
      "total_floor_count - 7%\n",
      "floor_no - 9%\n",
      "room_count - 0%\n",
      "size - 36%\n",
      "address - 0%\n",
      "furnished - 100%\n",
      "heating_type - 7%\n",
      "price - 0%\n",
      "price_currency - 0%\n"
     ]
    }
   ],
   "source": [
    "for col in df.columns:\n",
    "    pct_missing = np.mean(df[col].isnull())\n",
    "    print('{} - {}%'.format(col, round(pct_missing*100)))"
   ]
  },
  {
   "cell_type": "markdown",
   "id": "df2687eb",
   "metadata": {},
   "source": [
    "### Заменим пустые значения"
   ]
  },
  {
   "cell_type": "code",
   "execution_count": 8,
   "id": "e31321fb",
   "metadata": {},
   "outputs": [
    {
     "name": "stdout",
     "output_type": "stream",
     "text": [
      "imputing missing values for (median): size\n",
      "imputing missing values for (median): furnished\n",
      "imputing missing values for (median): price\n",
      "imputing missing values for (mode): end_date\n",
      "imputing missing values for (mode): building_age\n",
      "imputing missing values for (mode): total_floor_count\n",
      "imputing missing values for (mode): floor_no\n",
      "imputing missing values for (mode): heating_type\n",
      "imputing missing values for (mode): price_currency\n"
     ]
    }
   ],
   "source": [
    "df_numeric = df.select_dtypes(include=[np.number])\n",
    "numeric_cols = df_numeric.columns.values\n",
    "\n",
    "for col in numeric_cols:\n",
    "    missing = df[col].isnull()\n",
    "    num_missing = np.sum(missing)\n",
    "    \n",
    "    if num_missing > 0:  # only do the imputation for the columns that have missing values.\n",
    "        print('imputing missing values for (median): {}'.format(col))\n",
    "        df['{}_ismissing'.format(col)] = missing\n",
    "        med = df[col].median()\n",
    "        df[col] = df[col].fillna(med)\n",
    "        \n",
    "        \n",
    "df_non_numeric = df.select_dtypes(exclude=[np.number])\n",
    "non_numeric_cols = df_non_numeric.columns.values\n",
    "\n",
    "\n",
    "for col in non_numeric_cols:\n",
    "    missing = df[col].isnull()\n",
    "    num_missing = np.sum(missing)\n",
    "    \n",
    "    if num_missing > 0:  # only do the imputation for the columns that have missing values.\n",
    "        print('imputing missing values for (mode): {}'.format(col))\n",
    "        df['{}_ismissing'.format(col)] = missing\n",
    "        \n",
    "        top = df[col].mode()[0]\n",
    "        df[col] = df[col].fillna(top)\n",
    "        \n",
    "        \n",
    "# for col in non_numeric_cols:\n",
    "#     missing = df[col].isnull()\n",
    "#     num_missing = np.sum(missing)\n",
    "    \n",
    "#     if num_missing > 0:  # only do the imputation for the columns that have missing values.\n",
    "#         print('imputing missing values for: {}'.format(col))\n",
    "#         df['{}_ismissing'.format(col)] = missing\n",
    "        \n",
    "#         top = df[col].describe()['top'] # impute with the most frequent value.\n",
    "#         df[col] = df[col].fillna(top)"
   ]
  },
  {
   "cell_type": "code",
   "execution_count": 9,
   "id": "0ca916ff",
   "metadata": {},
   "outputs": [],
   "source": [
    "# df.end_date = df.end_date.fillna('__MISSING__')\n",
    "# df.building_age = df.building_age.fillna('__MISSING__') \n",
    "# df.floor_no = df.floor_no.fillna('__MISSING__') \n",
    "# df.total_floor_count = df.total_floor_count.fillna('__MISSING__') \n",
    "# df.heating_type = df.heating_type.fillna(df.heating_type.mode()[0])\n",
    "# df.price_currency = df.price_currency.fillna(df.heating_type.mode()[0])\n"
   ]
  },
  {
   "cell_type": "code",
   "execution_count": 10,
   "id": "8d0aa9cd",
   "metadata": {},
   "outputs": [
    {
     "name": "stdout",
     "output_type": "stream",
     "text": [
      "type - 0%\n",
      "sub_type - 0%\n",
      "start_date - 0%\n",
      "end_date - 0%\n",
      "listing_type - 0%\n",
      "tom - 0%\n",
      "building_age - 0%\n",
      "total_floor_count - 0%\n",
      "floor_no - 0%\n",
      "room_count - 0%\n",
      "size - 0%\n",
      "address - 0%\n",
      "furnished - 1000%\n",
      "heating_type - 0%\n",
      "price - 0%\n",
      "price_currency - 0%\n",
      "size_ismissing - 0%\n",
      "furnished_ismissing - 0%\n",
      "price_ismissing - 0%\n",
      "end_date_ismissing - 0%\n",
      "building_age_ismissing - 0%\n",
      "total_floor_count_ismissing - 0%\n",
      "floor_no_ismissing - 0%\n",
      "heating_type_ismissing - 0%\n",
      "price_currency_ismissing - 0%\n"
     ]
    }
   ],
   "source": [
    "for col in df.columns:\n",
    "    pct_missing = np.mean(df[col].isnull())\n",
    "    print('{} - {}%'.format(col, round(pct_missing*1000)))"
   ]
  },
  {
   "cell_type": "markdown",
   "id": "60e1e33c",
   "metadata": {},
   "source": [
    "### Разделим столбцы"
   ]
  },
  {
   "cell_type": "code",
   "execution_count": 11,
   "id": "f2f73850",
   "metadata": {},
   "outputs": [
    {
     "data": {
      "text/html": [
       "<div>\n",
       "<style scoped>\n",
       "    .dataframe tbody tr th:only-of-type {\n",
       "        vertical-align: middle;\n",
       "    }\n",
       "\n",
       "    .dataframe tbody tr th {\n",
       "        vertical-align: top;\n",
       "    }\n",
       "\n",
       "    .dataframe thead th {\n",
       "        text-align: right;\n",
       "    }\n",
       "</style>\n",
       "<table border=\"1\" class=\"dataframe\">\n",
       "  <thead>\n",
       "    <tr style=\"text-align: right;\">\n",
       "      <th></th>\n",
       "      <th>type</th>\n",
       "      <th>sub_type</th>\n",
       "      <th>start_date</th>\n",
       "      <th>end_date</th>\n",
       "      <th>listing_type</th>\n",
       "      <th>tom</th>\n",
       "      <th>building_age</th>\n",
       "      <th>total_floor_count</th>\n",
       "      <th>floor_no</th>\n",
       "      <th>room_count</th>\n",
       "      <th>...</th>\n",
       "      <th>price_currency</th>\n",
       "      <th>size_ismissing</th>\n",
       "      <th>furnished_ismissing</th>\n",
       "      <th>price_ismissing</th>\n",
       "      <th>end_date_ismissing</th>\n",
       "      <th>building_age_ismissing</th>\n",
       "      <th>total_floor_count_ismissing</th>\n",
       "      <th>floor_no_ismissing</th>\n",
       "      <th>heating_type_ismissing</th>\n",
       "      <th>price_currency_ismissing</th>\n",
       "    </tr>\n",
       "    <tr>\n",
       "      <th>id</th>\n",
       "      <th></th>\n",
       "      <th></th>\n",
       "      <th></th>\n",
       "      <th></th>\n",
       "      <th></th>\n",
       "      <th></th>\n",
       "      <th></th>\n",
       "      <th></th>\n",
       "      <th></th>\n",
       "      <th></th>\n",
       "      <th></th>\n",
       "      <th></th>\n",
       "      <th></th>\n",
       "      <th></th>\n",
       "      <th></th>\n",
       "      <th></th>\n",
       "      <th></th>\n",
       "      <th></th>\n",
       "      <th></th>\n",
       "      <th></th>\n",
       "      <th></th>\n",
       "    </tr>\n",
       "  </thead>\n",
       "  <tbody>\n",
       "    <tr>\n",
       "      <th>1</th>\n",
       "      <td>Konut</td>\n",
       "      <td>Rezidans</td>\n",
       "      <td>12/10/18</td>\n",
       "      <td>1/9/19</td>\n",
       "      <td>2</td>\n",
       "      <td>30</td>\n",
       "      <td>0</td>\n",
       "      <td>20 ve üzeri</td>\n",
       "      <td>2</td>\n",
       "      <td>2+1</td>\n",
       "      <td>...</td>\n",
       "      <td>TRY</td>\n",
       "      <td>False</td>\n",
       "      <td>True</td>\n",
       "      <td>False</td>\n",
       "      <td>False</td>\n",
       "      <td>False</td>\n",
       "      <td>False</td>\n",
       "      <td>False</td>\n",
       "      <td>False</td>\n",
       "      <td>False</td>\n",
       "    </tr>\n",
       "    <tr>\n",
       "      <th>2</th>\n",
       "      <td>Konut</td>\n",
       "      <td>Daire</td>\n",
       "      <td>2/13/19</td>\n",
       "      <td>12/19/18</td>\n",
       "      <td>1</td>\n",
       "      <td>14</td>\n",
       "      <td>0</td>\n",
       "      <td>20 ve üzeri</td>\n",
       "      <td>20 ve üzeri</td>\n",
       "      <td>1+0</td>\n",
       "      <td>...</td>\n",
       "      <td>TRY</td>\n",
       "      <td>False</td>\n",
       "      <td>True</td>\n",
       "      <td>False</td>\n",
       "      <td>True</td>\n",
       "      <td>False</td>\n",
       "      <td>False</td>\n",
       "      <td>False</td>\n",
       "      <td>False</td>\n",
       "      <td>False</td>\n",
       "    </tr>\n",
       "    <tr>\n",
       "      <th>3</th>\n",
       "      <td>Konut</td>\n",
       "      <td>Daire</td>\n",
       "      <td>10/9/18</td>\n",
       "      <td>11/8/18</td>\n",
       "      <td>1</td>\n",
       "      <td>30</td>\n",
       "      <td>0</td>\n",
       "      <td>1</td>\n",
       "      <td>Yüksek Giriş</td>\n",
       "      <td>2+1</td>\n",
       "      <td>...</td>\n",
       "      <td>TRY</td>\n",
       "      <td>True</td>\n",
       "      <td>True</td>\n",
       "      <td>False</td>\n",
       "      <td>False</td>\n",
       "      <td>False</td>\n",
       "      <td>False</td>\n",
       "      <td>False</td>\n",
       "      <td>False</td>\n",
       "      <td>False</td>\n",
       "    </tr>\n",
       "    <tr>\n",
       "      <th>4</th>\n",
       "      <td>Konut</td>\n",
       "      <td>Rezidans</td>\n",
       "      <td>9/10/18</td>\n",
       "      <td>10/10/18</td>\n",
       "      <td>1</td>\n",
       "      <td>30</td>\n",
       "      <td>3</td>\n",
       "      <td>20 ve üzeri</td>\n",
       "      <td>20 ve üzeri</td>\n",
       "      <td>6+1</td>\n",
       "      <td>...</td>\n",
       "      <td>TRY</td>\n",
       "      <td>False</td>\n",
       "      <td>True</td>\n",
       "      <td>False</td>\n",
       "      <td>False</td>\n",
       "      <td>False</td>\n",
       "      <td>False</td>\n",
       "      <td>False</td>\n",
       "      <td>False</td>\n",
       "      <td>False</td>\n",
       "    </tr>\n",
       "    <tr>\n",
       "      <th>5</th>\n",
       "      <td>Konut</td>\n",
       "      <td>Rezidans</td>\n",
       "      <td>12/10/18</td>\n",
       "      <td>1/9/19</td>\n",
       "      <td>1</td>\n",
       "      <td>30</td>\n",
       "      <td>0</td>\n",
       "      <td>20 ve üzeri</td>\n",
       "      <td>2</td>\n",
       "      <td>2+1</td>\n",
       "      <td>...</td>\n",
       "      <td>TRY</td>\n",
       "      <td>False</td>\n",
       "      <td>True</td>\n",
       "      <td>False</td>\n",
       "      <td>False</td>\n",
       "      <td>False</td>\n",
       "      <td>False</td>\n",
       "      <td>False</td>\n",
       "      <td>False</td>\n",
       "      <td>False</td>\n",
       "    </tr>\n",
       "    <tr>\n",
       "      <th>6</th>\n",
       "      <td>Konut</td>\n",
       "      <td>Rezidans</td>\n",
       "      <td>11/9/18</td>\n",
       "      <td>12/9/18</td>\n",
       "      <td>1</td>\n",
       "      <td>30</td>\n",
       "      <td>2</td>\n",
       "      <td>10-20 arası</td>\n",
       "      <td>10</td>\n",
       "      <td>1+1</td>\n",
       "      <td>...</td>\n",
       "      <td>TRY</td>\n",
       "      <td>False</td>\n",
       "      <td>True</td>\n",
       "      <td>False</td>\n",
       "      <td>False</td>\n",
       "      <td>False</td>\n",
       "      <td>False</td>\n",
       "      <td>False</td>\n",
       "      <td>False</td>\n",
       "      <td>False</td>\n",
       "    </tr>\n",
       "    <tr>\n",
       "      <th>7</th>\n",
       "      <td>Konut</td>\n",
       "      <td>Daire</td>\n",
       "      <td>1/4/19</td>\n",
       "      <td>12/19/18</td>\n",
       "      <td>2</td>\n",
       "      <td>54</td>\n",
       "      <td>0</td>\n",
       "      <td>20 ve üzeri</td>\n",
       "      <td>14</td>\n",
       "      <td>3+1</td>\n",
       "      <td>...</td>\n",
       "      <td>TRY</td>\n",
       "      <td>False</td>\n",
       "      <td>True</td>\n",
       "      <td>False</td>\n",
       "      <td>True</td>\n",
       "      <td>False</td>\n",
       "      <td>False</td>\n",
       "      <td>False</td>\n",
       "      <td>False</td>\n",
       "      <td>False</td>\n",
       "    </tr>\n",
       "    <tr>\n",
       "      <th>8</th>\n",
       "      <td>Konut</td>\n",
       "      <td>Villa</td>\n",
       "      <td>10/3/18</td>\n",
       "      <td>1/3/19</td>\n",
       "      <td>1</td>\n",
       "      <td>92</td>\n",
       "      <td>0</td>\n",
       "      <td>4</td>\n",
       "      <td>2</td>\n",
       "      <td>4+1</td>\n",
       "      <td>...</td>\n",
       "      <td>TRY</td>\n",
       "      <td>True</td>\n",
       "      <td>True</td>\n",
       "      <td>False</td>\n",
       "      <td>False</td>\n",
       "      <td>False</td>\n",
       "      <td>False</td>\n",
       "      <td>True</td>\n",
       "      <td>False</td>\n",
       "      <td>False</td>\n",
       "    </tr>\n",
       "    <tr>\n",
       "      <th>9</th>\n",
       "      <td>Konut</td>\n",
       "      <td>Daire</td>\n",
       "      <td>2/16/19</td>\n",
       "      <td>12/19/18</td>\n",
       "      <td>1</td>\n",
       "      <td>11</td>\n",
       "      <td>0</td>\n",
       "      <td>2</td>\n",
       "      <td>Kot 2</td>\n",
       "      <td>3+1</td>\n",
       "      <td>...</td>\n",
       "      <td>TRY</td>\n",
       "      <td>False</td>\n",
       "      <td>True</td>\n",
       "      <td>False</td>\n",
       "      <td>True</td>\n",
       "      <td>True</td>\n",
       "      <td>False</td>\n",
       "      <td>False</td>\n",
       "      <td>False</td>\n",
       "      <td>False</td>\n",
       "    </tr>\n",
       "    <tr>\n",
       "      <th>10</th>\n",
       "      <td>Konut</td>\n",
       "      <td>Daire</td>\n",
       "      <td>12/26/18</td>\n",
       "      <td>12/26/18</td>\n",
       "      <td>1</td>\n",
       "      <td>0</td>\n",
       "      <td>1</td>\n",
       "      <td>1</td>\n",
       "      <td>Asma Kat</td>\n",
       "      <td>2+2</td>\n",
       "      <td>...</td>\n",
       "      <td>GBP</td>\n",
       "      <td>False</td>\n",
       "      <td>True</td>\n",
       "      <td>False</td>\n",
       "      <td>False</td>\n",
       "      <td>False</td>\n",
       "      <td>False</td>\n",
       "      <td>False</td>\n",
       "      <td>False</td>\n",
       "      <td>False</td>\n",
       "    </tr>\n",
       "  </tbody>\n",
       "</table>\n",
       "<p>10 rows × 25 columns</p>\n",
       "</div>"
      ],
      "text/plain": [
       "     type  sub_type start_date  end_date  listing_type  tom building_age  \\\n",
       "id                                                                         \n",
       "1   Konut  Rezidans   12/10/18    1/9/19             2   30            0   \n",
       "2   Konut     Daire    2/13/19  12/19/18             1   14            0   \n",
       "3   Konut     Daire    10/9/18   11/8/18             1   30            0   \n",
       "4   Konut  Rezidans    9/10/18  10/10/18             1   30            3   \n",
       "5   Konut  Rezidans   12/10/18    1/9/19             1   30            0   \n",
       "6   Konut  Rezidans    11/9/18   12/9/18             1   30            2   \n",
       "7   Konut     Daire     1/4/19  12/19/18             2   54            0   \n",
       "8   Konut     Villa    10/3/18    1/3/19             1   92            0   \n",
       "9   Konut     Daire    2/16/19  12/19/18             1   11            0   \n",
       "10  Konut     Daire   12/26/18  12/26/18             1    0            1   \n",
       "\n",
       "   total_floor_count      floor_no room_count  ...  price_currency  \\\n",
       "id                                             ...                   \n",
       "1        20 ve üzeri             2        2+1  ...             TRY   \n",
       "2        20 ve üzeri   20 ve üzeri        1+0  ...             TRY   \n",
       "3                  1  Yüksek Giriş        2+1  ...             TRY   \n",
       "4        20 ve üzeri   20 ve üzeri        6+1  ...             TRY   \n",
       "5        20 ve üzeri             2        2+1  ...             TRY   \n",
       "6        10-20 arası            10        1+1  ...             TRY   \n",
       "7        20 ve üzeri            14        3+1  ...             TRY   \n",
       "8                  4             2        4+1  ...             TRY   \n",
       "9                  2         Kot 2        3+1  ...             TRY   \n",
       "10                 1      Asma Kat        2+2  ...             GBP   \n",
       "\n",
       "   size_ismissing  furnished_ismissing price_ismissing  end_date_ismissing  \\\n",
       "id                                                                           \n",
       "1           False                 True           False               False   \n",
       "2           False                 True           False                True   \n",
       "3            True                 True           False               False   \n",
       "4           False                 True           False               False   \n",
       "5           False                 True           False               False   \n",
       "6           False                 True           False               False   \n",
       "7           False                 True           False                True   \n",
       "8            True                 True           False               False   \n",
       "9           False                 True           False                True   \n",
       "10          False                 True           False               False   \n",
       "\n",
       "   building_age_ismissing  total_floor_count_ismissing  floor_no_ismissing  \\\n",
       "id                                                                           \n",
       "1                   False                        False               False   \n",
       "2                   False                        False               False   \n",
       "3                   False                        False               False   \n",
       "4                   False                        False               False   \n",
       "5                   False                        False               False   \n",
       "6                   False                        False               False   \n",
       "7                   False                        False               False   \n",
       "8                   False                        False                True   \n",
       "9                    True                        False               False   \n",
       "10                  False                        False               False   \n",
       "\n",
       "    heating_type_ismissing  price_currency_ismissing  \n",
       "id                                                    \n",
       "1                    False                     False  \n",
       "2                    False                     False  \n",
       "3                    False                     False  \n",
       "4                    False                     False  \n",
       "5                    False                     False  \n",
       "6                    False                     False  \n",
       "7                    False                     False  \n",
       "8                    False                     False  \n",
       "9                    False                     False  \n",
       "10                   False                     False  \n",
       "\n",
       "[10 rows x 25 columns]"
      ]
     },
     "execution_count": 11,
     "metadata": {},
     "output_type": "execute_result"
    }
   ],
   "source": [
    "df.head(10)"
   ]
  },
  {
   "cell_type": "markdown",
   "id": "a80a65ca",
   "metadata": {},
   "source": [
    "1. Разделяем столбец комнаты на жилые и не жилые"
   ]
  },
  {
   "cell_type": "code",
   "execution_count": 12,
   "id": "4e7ea714",
   "metadata": {},
   "outputs": [],
   "source": [
    "df[['rooms', 'living_rooms']] = df['room_count'].str.split('+', expand=True)\n",
    "\n",
    "df['rooms'] = [1 if len(item) == 0 else item for item in df['rooms']]\n",
    "df['living_rooms'] = [1 if len(item) == 0 else item for item in df['living_rooms']]"
   ]
  },
  {
   "cell_type": "markdown",
   "id": "ee2d6788",
   "metadata": {},
   "source": [
    "2. Разделим адрес"
   ]
  },
  {
   "cell_type": "code",
   "execution_count": 13,
   "id": "d578192b",
   "metadata": {},
   "outputs": [],
   "source": [
    "df[['city', 'country', 'district']] = df['address'].str.split('/', expand=True)"
   ]
  },
  {
   "cell_type": "markdown",
   "id": "e0965047",
   "metadata": {},
   "source": [
    "### Кодируем категориальные признки"
   ]
  },
  {
   "cell_type": "code",
   "execution_count": 14,
   "id": "de7a7cdb",
   "metadata": {},
   "outputs": [],
   "source": [
    "ordinal_encoder = OrdinalEncoder()  # Объект"
   ]
  },
  {
   "cell_type": "markdown",
   "id": "dc4027db",
   "metadata": {},
   "source": [
    "0. Building_age"
   ]
  },
  {
   "cell_type": "code",
   "execution_count": 15,
   "id": "e3912039",
   "metadata": {},
   "outputs": [],
   "source": [
    "df['building_age_c'] = ordinal_encoder.fit_transform(df[['building_age_ismissing']])\n",
    "\n",
    "BUILDING_AGE_CODE_DICT = dict(zip((ordinal_encoder.categories_[0]), range(len(ordinal_encoder.categories_[0]))))"
   ]
  },
  {
   "cell_type": "markdown",
   "id": "e3bdad63",
   "metadata": {},
   "source": [
    "1. Sub_type"
   ]
  },
  {
   "cell_type": "code",
   "execution_count": 18,
   "id": "3b5808e4",
   "metadata": {},
   "outputs": [],
   "source": [
    "df['sub_type_c'] = ordinal_encoder.fit_transform(df[['sub_type']])\n",
    "\n",
    "SUB_TYPE_CODE_DICT = dict(zip((ordinal_encoder.categories_[0]), range(len(ordinal_encoder.categories_[0]))))"
   ]
  },
  {
   "cell_type": "markdown",
   "id": "74a3c9d6",
   "metadata": {},
   "source": [
    "2. Total_floor_count"
   ]
  },
  {
   "cell_type": "code",
   "execution_count": 19,
   "id": "217a4efa",
   "metadata": {},
   "outputs": [],
   "source": [
    "df['total_floor_count_c'] = ordinal_encoder.fit_transform(df[['total_floor_count_ismissing']])\n",
    "\n",
    "TOTAL_FLOOR_COUNT_CODE_DICT = dict(zip((ordinal_encoder.categories_[0]), range(len(ordinal_encoder.categories_[0]))))"
   ]
  },
  {
   "cell_type": "markdown",
   "id": "765d868c",
   "metadata": {},
   "source": [
    "3. floor_no"
   ]
  },
  {
   "cell_type": "code",
   "execution_count": 20,
   "id": "eeaaaefc",
   "metadata": {},
   "outputs": [],
   "source": [
    "df['floor_no_c'] = ordinal_encoder.fit_transform(df[['floor_no_ismissing']])\n",
    "\n",
    "FLOOR_NO_CODE_DICT = dict(zip((ordinal_encoder.categories_[0]), range(len(ordinal_encoder.categories_[0]))))"
   ]
  },
  {
   "cell_type": "markdown",
   "id": "b419152e",
   "metadata": {},
   "source": [
    "4. heating_type"
   ]
  },
  {
   "cell_type": "code",
   "execution_count": 21,
   "id": "7880c96a",
   "metadata": {},
   "outputs": [],
   "source": [
    "df['heating_type_c'] = ordinal_encoder.fit_transform(df[['heating_type_ismissing']])\n",
    "\n",
    "HEATING_TYPE_CODE_DICT = dict(zip((ordinal_encoder.categories_[0]), range(len(ordinal_encoder.categories_[0]))))"
   ]
  },
  {
   "cell_type": "markdown",
   "id": "12dc2f78",
   "metadata": {},
   "source": [
    "5. price_currency"
   ]
  },
  {
   "cell_type": "code",
   "execution_count": 22,
   "id": "0c310f2f",
   "metadata": {},
   "outputs": [],
   "source": [
    "df['price_currency_c'] = ordinal_encoder.fit_transform(df[['price_currency_ismissing']])\n",
    "\n",
    "PRICE_CURRENCY_CODE_DICT = dict(zip((ordinal_encoder.categories_[0]), range(len(ordinal_encoder.categories_[0]))))"
   ]
  },
  {
   "cell_type": "markdown",
   "id": "8d2a9169",
   "metadata": {},
   "source": [
    "6. city"
   ]
  },
  {
   "cell_type": "code",
   "execution_count": 24,
   "id": "2100abd9",
   "metadata": {},
   "outputs": [],
   "source": [
    "df['city_c'] = ordinal_encoder.fit_transform(df[['city']])\n",
    "\n",
    "CITY_CODE_DICT = dict(zip((ordinal_encoder.categories_[0]), range(len(ordinal_encoder.categories_[0]))))"
   ]
  },
  {
   "cell_type": "markdown",
   "id": "ea6a9966",
   "metadata": {},
   "source": [
    "7. country"
   ]
  },
  {
   "cell_type": "code",
   "execution_count": 26,
   "id": "7740a4cc",
   "metadata": {},
   "outputs": [],
   "source": [
    "df['country_c'] = ordinal_encoder.fit_transform(df[['country']])\n",
    "\n",
    "COUNRTY_CODE_DICT = dict(zip((ordinal_encoder.categories_[0]), range(len(ordinal_encoder.categories_[0]))))"
   ]
  },
  {
   "cell_type": "markdown",
   "id": "e4edade0",
   "metadata": {},
   "source": [
    "7. district"
   ]
  },
  {
   "cell_type": "code",
   "execution_count": 27,
   "id": "4f1a3606",
   "metadata": {},
   "outputs": [],
   "source": [
    "df['district_c'] = ordinal_encoder.fit_transform(df[['district']])\n",
    "\n",
    "COUNRTY_CODE_DICT = dict(zip((ordinal_encoder.categories_[0]), range(len(ordinal_encoder.categories_[0]))))"
   ]
  },
  {
   "cell_type": "markdown",
   "id": "b5c6fa2b",
   "metadata": {},
   "source": [
    "### Удалим не нужные столбцы"
   ]
  },
  {
   "cell_type": "code",
   "execution_count": 28,
   "id": "bdfe923a",
   "metadata": {},
   "outputs": [],
   "source": [
    "df = df.drop(['furnished', 'type', 'room_count', 'address'], axis=1)"
   ]
  },
  {
   "cell_type": "markdown",
   "id": "f296aa66",
   "metadata": {},
   "source": [
    "### Удалим дубликаты"
   ]
  },
  {
   "cell_type": "code",
   "execution_count": 29,
   "id": "36775670",
   "metadata": {},
   "outputs": [
    {
     "name": "stdout",
     "output_type": "stream",
     "text": [
      "(403487, 35)\n",
      "(391928, 35)\n"
     ]
    }
   ],
   "source": [
    "print(df.shape)\n",
    "\n",
    "df = df.drop_duplicates()\n",
    "\n",
    "print(df.shape)\n",
    "\n",
    "# df.columns = df.columns.str.replace(' ', '')"
   ]
  },
  {
   "cell_type": "markdown",
   "id": "699bdf9d",
   "metadata": {},
   "source": [
    "### Добавим закодированные столбцы в чистый датафрейм"
   ]
  },
  {
   "cell_type": "code",
   "execution_count": 30,
   "id": "94c90396",
   "metadata": {},
   "outputs": [],
   "source": [
    "# Чистый датафрейм\n",
    "df_clear = pd.DataFrame()"
   ]
  },
  {
   "cell_type": "code",
   "execution_count": 31,
   "id": "05aa1356",
   "metadata": {},
   "outputs": [],
   "source": [
    "df_clear['SubType'] = df.sub_type_c\n",
    "df_clear['BuildingAge'] = df.building_age_c\n",
    "df_clear['ListingType'] = df.listing_type\n",
    "df_clear['Tom'] = df.tom\n",
    "df_clear['Price'] = df.price\n",
    "df_clear['Rooms'] = df.rooms\n",
    "df_clear['LivingRooms'] = df.living_rooms\n",
    "df_clear['City'] = df.city_c\n",
    "df_clear['Country'] = df.country_c\n",
    "df_clear['District'] = df.district_c\n",
    "df_clear['TotalFloorCount'] = df.total_floor_count_c\n",
    "df_clear['FloorNo'] = df.floor_no_c\n",
    "df_clear['HeatingType'] = df.heating_type_c\n",
    "df_clear['PriceCurrency'] = df.price_currency_c"
   ]
  },
  {
   "cell_type": "code",
   "execution_count": 32,
   "id": "021df918",
   "metadata": {},
   "outputs": [
    {
     "data": {
      "text/html": [
       "<div>\n",
       "<style scoped>\n",
       "    .dataframe tbody tr th:only-of-type {\n",
       "        vertical-align: middle;\n",
       "    }\n",
       "\n",
       "    .dataframe tbody tr th {\n",
       "        vertical-align: top;\n",
       "    }\n",
       "\n",
       "    .dataframe thead th {\n",
       "        text-align: right;\n",
       "    }\n",
       "</style>\n",
       "<table border=\"1\" class=\"dataframe\">\n",
       "  <thead>\n",
       "    <tr style=\"text-align: right;\">\n",
       "      <th></th>\n",
       "      <th>SubType</th>\n",
       "      <th>BuildingAge</th>\n",
       "      <th>ListingType</th>\n",
       "      <th>Tom</th>\n",
       "      <th>Price</th>\n",
       "      <th>Rooms</th>\n",
       "      <th>LivingRooms</th>\n",
       "      <th>City</th>\n",
       "      <th>Country</th>\n",
       "      <th>District</th>\n",
       "      <th>TotalFloorCount</th>\n",
       "      <th>FloorNo</th>\n",
       "      <th>HeatingType</th>\n",
       "      <th>PriceCurrency</th>\n",
       "    </tr>\n",
       "    <tr>\n",
       "      <th>id</th>\n",
       "      <th></th>\n",
       "      <th></th>\n",
       "      <th></th>\n",
       "      <th></th>\n",
       "      <th></th>\n",
       "      <th></th>\n",
       "      <th></th>\n",
       "      <th></th>\n",
       "      <th></th>\n",
       "      <th></th>\n",
       "      <th></th>\n",
       "      <th></th>\n",
       "      <th></th>\n",
       "      <th></th>\n",
       "    </tr>\n",
       "  </thead>\n",
       "  <tbody>\n",
       "    <tr>\n",
       "      <th>1</th>\n",
       "      <td>7.0</td>\n",
       "      <td>0.0</td>\n",
       "      <td>2</td>\n",
       "      <td>30</td>\n",
       "      <td>3500.0</td>\n",
       "      <td>2</td>\n",
       "      <td>1</td>\n",
       "      <td>78.0</td>\n",
       "      <td>249.0</td>\n",
       "      <td>2447.0</td>\n",
       "      <td>0.0</td>\n",
       "      <td>0.0</td>\n",
       "      <td>0.0</td>\n",
       "      <td>0.0</td>\n",
       "    </tr>\n",
       "    <tr>\n",
       "      <th>2</th>\n",
       "      <td>0.0</td>\n",
       "      <td>0.0</td>\n",
       "      <td>1</td>\n",
       "      <td>14</td>\n",
       "      <td>490000.0</td>\n",
       "      <td>1</td>\n",
       "      <td>0</td>\n",
       "      <td>78.0</td>\n",
       "      <td>249.0</td>\n",
       "      <td>2447.0</td>\n",
       "      <td>0.0</td>\n",
       "      <td>0.0</td>\n",
       "      <td>0.0</td>\n",
       "      <td>0.0</td>\n",
       "    </tr>\n",
       "    <tr>\n",
       "      <th>3</th>\n",
       "      <td>0.0</td>\n",
       "      <td>0.0</td>\n",
       "      <td>1</td>\n",
       "      <td>30</td>\n",
       "      <td>155000.0</td>\n",
       "      <td>2</td>\n",
       "      <td>1</td>\n",
       "      <td>66.0</td>\n",
       "      <td>488.0</td>\n",
       "      <td>3254.0</td>\n",
       "      <td>0.0</td>\n",
       "      <td>0.0</td>\n",
       "      <td>0.0</td>\n",
       "      <td>0.0</td>\n",
       "    </tr>\n",
       "    <tr>\n",
       "      <th>4</th>\n",
       "      <td>7.0</td>\n",
       "      <td>0.0</td>\n",
       "      <td>1</td>\n",
       "      <td>30</td>\n",
       "      <td>32500000.0</td>\n",
       "      <td>6</td>\n",
       "      <td>1</td>\n",
       "      <td>78.0</td>\n",
       "      <td>88.0</td>\n",
       "      <td>2747.0</td>\n",
       "      <td>0.0</td>\n",
       "      <td>0.0</td>\n",
       "      <td>0.0</td>\n",
       "      <td>0.0</td>\n",
       "    </tr>\n",
       "    <tr>\n",
       "      <th>5</th>\n",
       "      <td>7.0</td>\n",
       "      <td>0.0</td>\n",
       "      <td>1</td>\n",
       "      <td>30</td>\n",
       "      <td>1450000.0</td>\n",
       "      <td>2</td>\n",
       "      <td>1</td>\n",
       "      <td>78.0</td>\n",
       "      <td>249.0</td>\n",
       "      <td>2447.0</td>\n",
       "      <td>0.0</td>\n",
       "      <td>0.0</td>\n",
       "      <td>0.0</td>\n",
       "      <td>0.0</td>\n",
       "    </tr>\n",
       "  </tbody>\n",
       "</table>\n",
       "</div>"
      ],
      "text/plain": [
       "    SubType  BuildingAge  ListingType  Tom       Price Rooms LivingRooms  \\\n",
       "id                                                                         \n",
       "1       7.0          0.0            2   30      3500.0     2           1   \n",
       "2       0.0          0.0            1   14    490000.0     1           0   \n",
       "3       0.0          0.0            1   30    155000.0     2           1   \n",
       "4       7.0          0.0            1   30  32500000.0     6           1   \n",
       "5       7.0          0.0            1   30   1450000.0     2           1   \n",
       "\n",
       "    City  Country  District  TotalFloorCount  FloorNo  HeatingType  \\\n",
       "id                                                                   \n",
       "1   78.0    249.0    2447.0              0.0      0.0          0.0   \n",
       "2   78.0    249.0    2447.0              0.0      0.0          0.0   \n",
       "3   66.0    488.0    3254.0              0.0      0.0          0.0   \n",
       "4   78.0     88.0    2747.0              0.0      0.0          0.0   \n",
       "5   78.0    249.0    2447.0              0.0      0.0          0.0   \n",
       "\n",
       "    PriceCurrency  \n",
       "id                 \n",
       "1             0.0  \n",
       "2             0.0  \n",
       "3             0.0  \n",
       "4             0.0  \n",
       "5             0.0  "
      ]
     },
     "execution_count": 32,
     "metadata": {},
     "output_type": "execute_result"
    }
   ],
   "source": [
    "df_clear.head()"
   ]
  },
  {
   "cell_type": "markdown",
   "id": "29053a19",
   "metadata": {},
   "source": [
    "# Визуализация данных"
   ]
  },
  {
   "cell_type": "markdown",
   "id": "5e2a99de",
   "metadata": {},
   "source": [
    "Гистограмма типа здания"
   ]
  },
  {
   "cell_type": "code",
   "execution_count": 33,
   "id": "460728e0",
   "metadata": {},
   "outputs": [
    {
     "data": {
      "image/png": "[encoded data removed]",
      "text/plain": [
       "<Figure size 1080x504 with 1 Axes>"
      ]
     },
     "metadata": {
      "needs_background": "light"
     },
     "output_type": "display_data"
    }
   ],
   "source": [
    "plt.figure(figsize=(15, 7))\n",
    "sns.set_style(\"darkgrid\", {\"grid.color\": \".9\", \"grid.linestyle\": \":\"})\n",
    "sns.histplot(data=df_clear, x=df_clear.SubType, hue='SubType')\n",
    "plt.show()"
   ]
  },
  {
   "cell_type": "code",
   "execution_count": 34,
   "id": "c3afd54b",
   "metadata": {},
   "outputs": [
    {
     "data": {
      "image/png": "[encoded data removed]",
      "text/plain": [
       "<Figure size 1080x504 with 1 Axes>"
      ]
     },
     "metadata": {},
     "output_type": "display_data"
    }
   ],
   "source": [
    "plt.figure(figsize=(15, 7))\n",
    "sns.histplot(data=df_clear, x=df_clear.ListingType, hue='ListingType', legend=False)\n",
    "plt.legend(['Unknowned', 'Rent', 'Sale'])\n",
    "plt.show()"
   ]
  },
  {
   "cell_type": "code",
   "execution_count": 35,
   "id": "7df81e81",
   "metadata": {},
   "outputs": [
    {
     "data": {
      "text/plain": [
       "<AxesSubplot:>"
      ]
     },
     "execution_count": 35,
     "metadata": {},
     "output_type": "execute_result"
    },
    {
     "data": {
      "image/png": "[encoded data removed]",
      "text/plain": [
       "<Figure size 720x720 with 2 Axes>"
      ]
     },
     "metadata": {},
     "output_type": "display_data"
    }
   ],
   "source": [
    "plt.figure(figsize=(10, 10))\n",
    "sns.heatmap(df_clear.corr(), cmap='RdYlGn', annot=True, linewidths=1)"
   ]
  },
  {
   "cell_type": "code",
   "execution_count": 45,
   "id": "43369f01",
   "metadata": {},
   "outputs": [],
   "source": [
    "from sklearn.model_selection import train_test_split\n",
    "\n",
    "\n",
    "target_c = ['BuildingAge']\n",
    "column_train = ['FloorNo', 'Country', 'District', 'Price', 'HeatingType', 'SubType', 'Price']\n",
    "\n",
    "X, Y = df_clear[column_train], df_clear[target_c]\n",
    "\n",
    "X_train, X_test, Y_train, Y_test = train_test_split(X, Y, test_size=0.33, random_state=33)"
   ]
  },
  {
   "cell_type": "code",
   "execution_count": null,
   "id": "f7431343",
   "metadata": {},
   "outputs": [
    {
     "name": "stderr",
     "output_type": "stream",
     "text": [
      "C:\\ProgramData\\Anaconda3\\lib\\site-packages\\sklearn\\utils\\validation.py:63: DataConversionWarning: A column-vector y was passed when a 1d array was expected. Please change the shape of y to (n_samples, ), for example using ravel().\n",
      "  return f(*args, **kwargs)\n"
     ]
    }
   ],
   "source": [
    "from sklearn.svm import SVC\n",
    "\n",
    "# Обучение\n",
    "premodel = SVC(random_state=2)\n",
    "premodel.fit(X_train, Y_train)\n",
    "premodel.score(X_test, Y_test)\n",
    "# premodel.predict(X_test)"
   ]
  },
  {
   "cell_type": "code",
   "execution_count": 46,
   "id": "c248634e",
   "metadata": {},
   "outputs": [
    {
     "data": {
      "text/plain": [
       "0.9729389115257042"
      ]
     },
     "execution_count": 46,
     "metadata": {},
     "output_type": "execute_result"
    }
   ],
   "source": [
    "from sklearn.tree import DecisionTreeClassifier\n",
    "\n",
    "premodel = DecisionTreeClassifier(random_state=1)\n",
    "premodel.fit(X_train, Y_train)\n",
    "premodel.score(X_test, Y_test)\n"
   ]
  },
  {
   "cell_type": "code",
   "execution_count": 47,
   "id": "e3078cf8",
   "metadata": {},
   "outputs": [
    {
     "name": "stderr",
     "output_type": "stream",
     "text": [
      "C:\\ProgramData\\Anaconda3\\lib\\site-packages\\sklearn\\neighbors\\_classification.py:179: DataConversionWarning: A column-vector y was passed when a 1d array was expected. Please change the shape of y to (n_samples,), for example using ravel().\n",
      "  return self._fit(X, y)\n"
     ]
    },
    {
     "data": {
      "text/plain": [
       "0.9330199401563358"
      ]
     },
     "execution_count": 47,
     "metadata": {},
     "output_type": "execute_result"
    }
   ],
   "source": [
    "from sklearn.neighbors import KNeighborsClassifier\n",
    "\n",
    "model_knn = KNeighborsClassifier().fit(X_train, Y_train)\n",
    "model_knn.score(X_test, Y_test)\n"
   ]
  },
  {
   "cell_type": "code",
   "execution_count": 48,
   "id": "fac5da5c",
   "metadata": {},
   "outputs": [
    {
     "name": "stderr",
     "output_type": "stream",
     "text": [
      "C:\\USERSP~1\\is119belyh\\AppData\\Local\\Temp/ipykernel_5128/1006259078.py:4: DataConversionWarning: A column-vector y was passed when a 1d array was expected. Please change the shape of y to (n_samples,), for example using ravel().\n",
      "  model_rfc = RandomForestClassifier().fit(X_train, Y_train)\n"
     ]
    },
    {
     "data": {
      "text/plain": [
       "0.9799052088729443"
      ]
     },
     "execution_count": 48,
     "metadata": {},
     "output_type": "execute_result"
    }
   ],
   "source": [
    "from sklearn.model_selection import train_test_split\n",
    "from sklearn.ensemble import RandomForestClassifier \n",
    "\n",
    "model_rfc = RandomForestClassifier().fit(X_train, Y_train) \n",
    "model_rfc.score(X_test, Y_test)"
   ]
  },
  {
   "cell_type": "code",
   "execution_count": null,
   "id": "19ce6e87",
   "metadata": {},
   "outputs": [],
   "source": []
  }
 ],
 "metadata": {
  "kernelspec": {
   "display_name": "Python 3 (ipykernel)",
   "language": "python",
   "name": "python3"
  },
  "language_info": {
   "codemirror_mode": {
    "name": "ipython",
    "version": 3
   },
   "file_extension": ".py",
   "mimetype": "text/x-python",
   "name": "python",
   "nbconvert_exporter": "python",
   "pygments_lexer": "ipython3",
   "version": "3.9.7"
  }
 },
 "nbformat": 4,
 "nbformat_minor": 5
}
